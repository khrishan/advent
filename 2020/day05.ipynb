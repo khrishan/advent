{
 "cells": [
  {
   "cell_type": "code",
   "execution_count": 53,
   "id": "defensive-application",
   "metadata": {},
   "outputs": [
    {
     "name": "stdout",
     "output_type": "stream",
     "text": [
      "892\n"
     ]
    }
   ],
   "source": [
    "import math\n",
    "\n",
    "id_set = set() # for part2\n",
    "\n",
    "def binary_search(lbound, ubound, instructions):\n",
    "    for i in range(len(instructions) -1):\n",
    "        _range = ubound - lbound\n",
    "        _range = _range / 2\n",
    "        if instructions[i] == 'F' or instructions[i] == 'L': #lower half\n",
    "            ubound = math.floor(ubound - _range)\n",
    "        else:\n",
    "            lbound = math.ceil(lbound + _range)\n",
    "    \n",
    "    if instructions[len(instructions) -1] == 'F' or instructions[len(instructions) -1] == 'L':\n",
    "        return lbound\n",
    "    else:\n",
    "        return ubound\n",
    "    \n",
    "with open('input/day05.txt') as input_file:\n",
    "    b_passes = [f.strip() for f in input_file.readlines()]\n",
    "\n",
    "highest_id = -1\n",
    "    \n",
    "for b_pass in b_passes:\n",
    "    row = binary_search(0, 127, b_pass[0:7])\n",
    "    column = binary_search(0, 7, b_pass[-3:])\n",
    "    \n",
    "    _id = row * 8 + column\n",
    "    \n",
    "    id_set.add(_id)  # for part2\n",
    "    \n",
    "    if _id > highest_id:\n",
    "        highest_id = _id\n",
    "        \n",
    "print(highest_id)"
   ]
  },
  {
   "cell_type": "markdown",
   "id": "otherwise-elevation",
   "metadata": {},
   "source": [
    "## --- Part Two ---\n",
    "\n",
    "**Ding!** The \"fasten seat belt\" signs have turned on. Time to find your seat.\n",
    "\n",
    "It's a completely full flight, so your seat should be the only missing boarding pass in your list. However, there's a catch: some of the seats at the very front and back of the plane don't exist on this aircraft, so they'll be missing from your list as well.\n",
    "\n",
    "Your seat wasn't at the very front or back, though; the seats with IDs +1 and -1 from yours will be in your list.\n",
    "\n",
    "**What is the ID of your seat?**"
   ]
  },
  {
   "cell_type": "code",
   "execution_count": 52,
   "id": "nonprofit-celebration",
   "metadata": {},
   "outputs": [
    {
     "name": "stdout",
     "output_type": "stream",
     "text": [
      "625\n"
     ]
    }
   ],
   "source": [
    "for i in range(min(id_set), max(id_set)):\n",
    "    if i not in id_set:\n",
    "        print(i)\n",
    "        break"
   ]
  },
  {
   "cell_type": "code",
   "execution_count": null,
   "id": "fatty-occasion",
   "metadata": {},
   "outputs": [],
   "source": []
  }
 ],
 "metadata": {
  "kernelspec": {
   "display_name": "Python 3",
   "language": "python",
   "name": "python3"
  },
  "language_info": {
   "codemirror_mode": {
    "name": "ipython",
    "version": 3
   },
   "file_extension": ".py",
   "mimetype": "text/x-python",
   "name": "python",
   "nbconvert_exporter": "python",
   "pygments_lexer": "ipython3",
   "version": "3.8.6"
  }
 },
 "nbformat": 4,
 "nbformat_minor": 5
}
