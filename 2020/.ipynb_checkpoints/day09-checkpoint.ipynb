{
 "cells": [
  {
   "cell_type": "markdown",
   "id": "cordless-disabled",
   "metadata": {},
   "source": [
    "# --- Day 9: Encoding Error ---\n",
    "\n",
    "With your neighbor happily enjoying their video game, you turn your attention to an open data port on the little screen in the seat in front of you.\n",
    "\n",
    "Though the port is non-standard, you manage to connect it to your computer through the clever use of several paperclips. Upon connection, the port outputs a series of numbers (your puzzle input).\n",
    "\n",
    "The data appears to be encrypted with the eXchange-Masking Addition System (XMAS) which, conveniently for you, is an old cypher with an important weakness.\n",
    "\n",
    "XMAS starts by transmitting a **preamble** of 25 numbers. After that, each number you receive should be the sum of any two of the 25 immediately previous numbers. The two numbers will have different values, and there might be more than one such pair.\n",
    "\n",
    "For example, suppose your preamble consists of the numbers `1` through `25` in a random order. To be valid, the next number must be the sum of two of those numbers:\n",
    "\n",
    "+ `26` would be a **valid** next number, as it could be `1` plus `25` (or many other pairs, like `2` and `24`).\n",
    "+ `49` would be a **valid** next number, as it is the sum of `24` and `25`.\n",
    "+ `100` would **not** be valid; no two of the previous 25 numbers sum to `100`.\n",
    "+ `50` would also **not** be valid; although `25` appears in the previous 25 numbers, the two numbers in the pair must be different.\n",
    "\n",
    "Suppose the 26th number is `45`, and the first number (no longer an option, as it is more than 25 numbers ago) was `20`. Now, for the next number to be valid, there needs to be some pair of numbers among `1`-`19`, `21`-`25`, or `45` that add up to it:\n",
    "\n",
    "+ `26` would still be a **valid** next number, as `1` and `25` are still within the previous 25 numbers.\n",
    "+ `65` would **not** be valid, as no two of the available numbers sum to it.\n",
    "+ `64` and `66` would both be **valid**, as they are the result of `19+45` and `21+45` respectively.\n",
    "\n",
    "Here is a larger example which only considers the previous **5** numbers (and has a preamble of length 5):\n",
    "\n",
    "```\n",
    "35\n",
    "20\n",
    "15\n",
    "25\n",
    "47\n",
    "40\n",
    "62\n",
    "55\n",
    "65\n",
    "95\n",
    "102\n",
    "117\n",
    "150\n",
    "182\n",
    "127\n",
    "219\n",
    "299\n",
    "277\n",
    "309\n",
    "576\n",
    "```\n",
    "\n",
    "In this example, after the 5-number preamble, almost every number is the sum of two of the previous 5 numbers; the only number that does not follow this rule is **`127`**.\n",
    "\n",
    "The first step of attacking the weakness in the XMAS data is to find the first number in the list (after the preamble) which is **not** the sum of two of the 25 numbers before it. **What is the first number that does not have this property?**"
   ]
  },
  {
   "cell_type": "code",
   "execution_count": 25,
   "id": "stylish-salmon",
   "metadata": {},
   "outputs": [
    {
     "name": "stdout",
     "output_type": "stream",
     "text": [
      "50047984\n"
     ]
    }
   ],
   "source": [
    "from itertools import permutations\n",
    "\n",
    "with open('input/day09.txt') as input_file:\n",
    "    numbers = [int(i.strip()) for i in input_file.readlines()]\n",
    "\n",
    "weakness = -1\n",
    "\n",
    "def find_weakness(nums, target):\n",
    "    perms = list(permutations(nums, 2))\n",
    "    for p in perms:\n",
    "        total = sum(p)\n",
    "        if total == target and p[0] != p[1]:\n",
    "            return True\n",
    "    \n",
    "    return False\n",
    "\n",
    "for i in range(25, len(numbers)):\n",
    "    prev = numbers[i-25:i]\n",
    "    target = numbers[i]\n",
    "    if not find_weakness(prev, target):\n",
    "        weakness = target\n",
    "        break\n",
    "        \n",
    "print(weakness)"
   ]
  },
  {
   "cell_type": "markdown",
   "id": "headed-field",
   "metadata": {},
   "source": [
    "## --- Part Two ---\n",
    "\n",
    "The final step in breaking the XMAS encryption relies on the invalid number you just found: you must **find a contiguous set of at least two numbers** in your list which sum to the invalid number from step 1.\n",
    "\n",
    "Again consider the above example:\n",
    "\n",
    "```\n",
    "35\n",
    "20\n",
    "15\n",
    "25\n",
    "47\n",
    "40\n",
    "62\n",
    "55\n",
    "65\n",
    "95\n",
    "102\n",
    "117\n",
    "150\n",
    "182\n",
    "127\n",
    "219\n",
    "299\n",
    "277\n",
    "309\n",
    "576\n",
    "```\n",
    "\n",
    "In this list, adding up all of the numbers from `15` through `40` produces the invalid number from step 1, `127`. (Of course, the contiguous set of numbers in your actual list might be much longer.)\n",
    "\n",
    "To find the **encryption weakness**, add together the **smallest** and **largest** number in this contiguous range; in this example, these are `15` and `47`, producing `62`.\n",
    "\n",
    "**What is the encryption weakness in your XMAS-encrypted list of numbers?**"
   ]
  },
  {
   "cell_type": "code",
   "execution_count": 46,
   "id": "excited-concern",
   "metadata": {},
   "outputs": [
    {
     "name": "stdout",
     "output_type": "stream",
     "text": [
      "5407707\n"
     ]
    }
   ],
   "source": [
    "weakness_index = numbers.index(weakness)\n",
    "\n",
    "total_found = False\n",
    "arr = []\n",
    "\n",
    "for i in range(2, weakness_index+1): #amount in array # starting at two as need at least 2 numbers\n",
    "    for j in range(0, weakness_index): #starting index\n",
    "        total_found = sum(numbers[j:j+i]) == weakness\n",
    "        \n",
    "        if total_found:\n",
    "            arr = numbers[j:j+i]\n",
    "            break\n",
    "    if total_found:\n",
    "        break\n",
    "            \n",
    "print(min(arr) + max(arr))"
   ]
  },
  {
   "cell_type": "code",
   "execution_count": null,
   "id": "legendary-grenada",
   "metadata": {},
   "outputs": [],
   "source": []
  }
 ],
 "metadata": {
  "kernelspec": {
   "display_name": "Python 3",
   "language": "python",
   "name": "python3"
  },
  "language_info": {
   "codemirror_mode": {
    "name": "ipython",
    "version": 3
   },
   "file_extension": ".py",
   "mimetype": "text/x-python",
   "name": "python",
   "nbconvert_exporter": "python",
   "pygments_lexer": "ipython3",
   "version": "3.8.6"
  }
 },
 "nbformat": 4,
 "nbformat_minor": 5
}
