{
 "cells": [
  {
   "cell_type": "markdown",
   "id": "adverse-choice",
   "metadata": {},
   "source": [
    "# --- Day 2: Password Philosophy ---\n",
    "\n",
    "Your flight departs in a few days from the coastal airport; the easiest way down to the coast from here is via toboggan.\n",
    "\n",
    "The shopkeeper at the North Pole Toboggan Rental Shop is having a bad day. \"Something's wrong with our computers; we can't log in!\" You ask if you can take a look.\n",
    "\n",
    "Their password database seems to be a little corrupted: some of the passwords wouldn't have been allowed by the Official Toboggan Corporate Policy that was in effect when they were chosen.\n",
    "\n",
    "To try to debug the problem, they have created a list (your puzzle input) of **passwords** (according to the corrupted database) and **the corporate policy when that password was set**.\n",
    "\n",
    "For example, suppose you have the following list:\n",
    "\n",
    "```\n",
    "1-3 a: abcde\n",
    "1-3 b: cdefg\n",
    "2-9 c: ccccccccc\n",
    "```\n",
    "\n",
    "Each line gives the password policy and then the password. The password policy indicates the lowest and highest number of times a given letter must appear for the password to be valid. For example, `1-3 a` means that the password must contain `a` at least `1` time and at most `3` times.\n",
    "\n",
    "In the above example, **`2`** passwords are valid. The middle password, `cdefg`, is not; it contains no instances of `b`, but needs at least `1`. The first and third passwords are valid: they contain one `a` or nine `c`, both within the limits of their respective policies.\n",
    "\n",
    "**How many passwords** are valid according to their policies?"
   ]
  },
  {
   "cell_type": "code",
   "execution_count": 21,
   "id": "revolutionary-isaac",
   "metadata": {},
   "outputs": [
    {
     "name": "stdout",
     "output_type": "stream",
     "text": [
      "538\n"
     ]
    }
   ],
   "source": [
    "valid_pwds = 0\n",
    "passwords = []\n",
    "\n",
    "with open('input/day02.txt', 'r') as input_file:\n",
    "    passwords = [line.strip() for line in input_file.readlines()]\n",
    "    \n",
    "for line in passwords:\n",
    "    rule, pwd = line.split(': ')\n",
    "    golden_letter = rule[-1]\n",
    "    lbound, ubound = [int(i) for i in rule.split(' ')[0].split('-')]\n",
    "    \n",
    "    if golden_letter not in pwd:\n",
    "        continue\n",
    "    \n",
    "    occrs = pwd.count(golden_letter)\n",
    "    \n",
    "    if(lbound <= occrs <= ubound):\n",
    "        valid_pwds += 1\n",
    "        \n",
    "\n",
    "print(valid_pwds)"
   ]
  },
  {
   "cell_type": "markdown",
   "id": "boring-diameter",
   "metadata": {},
   "source": [
    "## --- Part Two ---\n",
    "\n",
    "While it appears you validated the passwords correctly, they don't seem to be what the Official Toboggan Corporate Authentication System is expecting.\n",
    "\n",
    "The shopkeeper suddenly realizes that he just accidentally explained the password policy rules from his old job at the sled rental place down the street! The Official Toboggan Corporate Policy actually works a little differently.\n",
    "\n",
    "Each policy actually describes two **positions in the password**, where `1` means the first character, `2` means the second character, and so on. (Be careful; Toboggan Corporate Policies have no concept of \"index zero\"!) **Exactly one of these positions** must contain the given letter. Other occurrences of the letter are irrelevant for the purposes of policy enforcement.\n",
    "\n",
    "Given the same example list from above:\n",
    "\n",
    "+ `1-3 a: `**`a`**`b`**`c`**`de` is **valid**: position `1` contains a and position 3 does not.\n",
    "+ `1-3 b: `**`c`**`d`**`e`**`fg` is **invalid**: neither position `1` nor position `3` contains `b`.\n",
    "+ `2-9 c: c`**`c`**`cccccc`**`c`** is invalid: both position `2` and position `9` contain `c`.\n",
    "\n",
    "How many passwords are valid according to the new interpretation of the policies?"
   ]
  },
  {
   "cell_type": "code",
   "execution_count": 23,
   "id": "timely-direction",
   "metadata": {},
   "outputs": [
    {
     "name": "stdout",
     "output_type": "stream",
     "text": [
      "489\n"
     ]
    }
   ],
   "source": [
    "valid_pwds = 0\n",
    "\n",
    "for line in passwords:\n",
    "    rule, pwd = line.split(': ')\n",
    "    golden_letter = rule[-1]\n",
    "    index1, index2 = [int(i) for i in rule.split(' ')[0].split('-')]\n",
    "    \n",
    "    if golden_letter not in pwd:\n",
    "        continue\n",
    "    \n",
    "    if pwd[index1-1] == golden_letter and pwd[index2-1] == golden_letter:\n",
    "        continue\n",
    "    elif pwd[index1-1] == golden_letter or pwd[index2-1] == golden_letter:\n",
    "        valid_pwds += 1\n",
    "\n",
    "print(valid_pwds)"
   ]
  }
 ],
 "metadata": {
  "kernelspec": {
   "display_name": "Python 3",
   "language": "python",
   "name": "python3"
  },
  "language_info": {
   "codemirror_mode": {
    "name": "ipython",
    "version": 3
   },
   "file_extension": ".py",
   "mimetype": "text/x-python",
   "name": "python",
   "nbconvert_exporter": "python",
   "pygments_lexer": "ipython3",
   "version": "3.8.6"
  }
 },
 "nbformat": 4,
 "nbformat_minor": 5
}
