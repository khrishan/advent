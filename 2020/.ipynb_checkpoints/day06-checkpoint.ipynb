{
 "cells": [
  {
   "cell_type": "markdown",
   "id": "working-emerald",
   "metadata": {},
   "source": [
    "# --- Day 6: Custom Customs ---\n",
    "\n",
    "As your flight approaches the regional airport where you'll switch to a much larger plane, **customs declaration forms** are distributed to the passengers.\n",
    "\n",
    "The form asks a series of 26 yes-or-no questions marked `a` through `z`. All you need to do is identify the questions for which **anyone in your group** answers \"yes\". Since your group is just you, this doesn't take very long.\n",
    "\n",
    "However, the person sitting next to you seems to be experiencing a language barrier and asks if you can help. For each of the people in their group, you write down the questions for which they answer \"yes\", one per line. For example:\n",
    "\n",
    "```\n",
    "abcx\n",
    "abcy\n",
    "abcz\n",
    "```\n",
    "\n",
    "In this group, there are **`6`** questions to which anyone answered \"yes\": `a`, `b`, `c`, `x`, `y`, and `z`. (Duplicate answers to the same question don't count extra; each question counts at most once.)\n",
    "\n",
    "Another group asks for your help, then another, and eventually you've collected answers from every group on the plane (your puzzle input). Each group's answers are separated by a blank line, and within each group, each person's answers are on a single line. For example:\n",
    "\n",
    "```\n",
    "abc\n",
    "\n",
    "a\n",
    "b\n",
    "c\n",
    "\n",
    "ab\n",
    "ac\n",
    "\n",
    "a\n",
    "a\n",
    "a\n",
    "a\n",
    "\n",
    "b\n",
    "```\n",
    "\n",
    "This list represents answers from five groups:\n",
    "\n",
    "+ The first group contains one person who answered \"yes\" to **`3`** questions: `a`, `b`, and `c`.\n",
    "+ The second group contains three people; combined, they answered \"yes\" to **`3`** questions: `a`, `b`, and `c`.\n",
    "+ The third group contains two people; combined, they answered \"yes\" to **`3`** questions: `a`, `b`, and `c`.\n",
    "+ The fourth group contains four people; combined, they answered \"yes\" to only **`1`** question, `a`.\n",
    "+ The last group contains one person who answered \"yes\" to only **`1`** question, `b`.\n",
    "\n",
    "In this example, the sum of these counts is `3 + 3 + 3 + 1 + 1` = **`11`**.\n",
    "\n",
    "For each group, count the number of questions to which anyone answered \"yes\". **What is the sum of those counts?**"
   ]
  },
  {
   "cell_type": "code",
   "execution_count": 11,
   "id": "textile-target",
   "metadata": {},
   "outputs": [
    {
     "name": "stdout",
     "output_type": "stream",
     "text": [
      "6885\n"
     ]
    }
   ],
   "source": [
    "count = 0\n",
    "\n",
    "with open('input/day06.txt') as input_file:\n",
    "    lines = [line.strip() for line in input_file.readlines()]\n",
    "\n",
    "init_set = set()\n",
    "\n",
    "for l in lines:\n",
    "    if l == '':\n",
    "        count += len(init_set)\n",
    "        init_set.clear()\n",
    "    else:\n",
    "        init_set.update(l)\n",
    "\n",
    "print(count)"
   ]
  },
  {
   "cell_type": "markdown",
   "id": "collect-spell",
   "metadata": {},
   "source": [
    "## --- Part Two ---\n",
    "\n",
    "As you finish the last group's customs declaration, you notice that you misread one word in the instructions:\n",
    "\n",
    "You don't need to identify the questions to which **anyone** answered \"yes\"; you need to identify the questions to which **everyone** answered \"yes\"!\n",
    "\n",
    "Using the same example as above:\n",
    "\n",
    "```\n",
    "abc\n",
    "\n",
    "a\n",
    "b\n",
    "c\n",
    "\n",
    "ab\n",
    "ac\n",
    "\n",
    "a\n",
    "a\n",
    "a\n",
    "a\n",
    "\n",
    "b\n",
    "```\n",
    "\n",
    "This list represents answers from five groups:\n",
    "\n",
    "+ In the first group, everyone (all 1 person) answered \"yes\" to **`3`** questions: `a`, `b`, and `c`.\n",
    "+ In the second group, there is no question to which everyone answered \"yes\".\n",
    "+ In the third group, everyone answered yes to only **`1`** question, `a`. Since some people did not answer \"yes\" to `b` or `c`, they don't count.\n",
    "+ In the fourth group, everyone answered yes to only 1 question, `a`.\n",
    "+ In the fifth group, everyone (all 1 person) answered \"yes\" to **`1`** question, `b`.\n",
    "\n",
    "In this example, the sum of these counts is `3 + 0 + 1 + 1 + 1` = **`6`**.\n",
    "\n",
    "For each group, count the number of questions to which **everyone** answered \"yes\". **What is the sum of those counts?**"
   ]
  },
  {
   "cell_type": "code",
   "execution_count": 27,
   "id": "sustainable-satellite",
   "metadata": {},
   "outputs": [
    {
     "name": "stdout",
     "output_type": "stream",
     "text": [
      "3550\n"
     ]
    }
   ],
   "source": [
    "with open('input/day06.txt') as input_file:\n",
    "    lines = [line.strip() for line in input_file.readlines()]\n",
    "\n",
    "count = 0\n",
    "new_group = True\n",
    "\n",
    "all_answers = []\n",
    "\n",
    "for l in lines:\n",
    "    if l == '':\n",
    "        count += len(all_answers)\n",
    "        all_answers.clear()\n",
    "        new_group = True\n",
    "    else:\n",
    "        if new_group:\n",
    "            all_answers = list(l)\n",
    "            new_group = False\n",
    "            continue\n",
    "        \n",
    "        all_answers = list(set(all_answers).intersection(list(l)))\n",
    "\n",
    "print(count)"
   ]
  },
  {
   "cell_type": "code",
   "execution_count": null,
   "id": "accompanied-parcel",
   "metadata": {},
   "outputs": [],
   "source": []
  }
 ],
 "metadata": {
  "kernelspec": {
   "display_name": "Python 3",
   "language": "python",
   "name": "python3"
  },
  "language_info": {
   "codemirror_mode": {
    "name": "ipython",
    "version": 3
   },
   "file_extension": ".py",
   "mimetype": "text/x-python",
   "name": "python",
   "nbconvert_exporter": "python",
   "pygments_lexer": "ipython3",
   "version": "3.8.6"
  }
 },
 "nbformat": 4,
 "nbformat_minor": 5
}
