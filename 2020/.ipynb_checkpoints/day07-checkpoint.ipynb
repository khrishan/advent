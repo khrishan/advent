{
 "cells": [
  {
   "cell_type": "markdown",
   "id": "impaired-winter",
   "metadata": {},
   "source": [
    "# --- Day 7: Handy Haversacks ---\n",
    "\n",
    "You land at the regional airport in time for your next flight. In fact, it looks like you'll even have time to grab some food: all flights are currently delayed due to **issues in luggage processing**.\n",
    "\n",
    "Due to recent aviation regulations, many rules (your puzzle input) are being enforced about bags and their contents; bags must be color-coded and must contain specific quantities of other color-coded bags. Apparently, nobody responsible for these regulations considered how long they would take to enforce!\n",
    "\n",
    "For example, consider the following rules:\n",
    "\n",
    "```\n",
    "light red bags contain 1 bright white bag, 2 muted yellow bags.\n",
    "dark orange bags contain 3 bright white bags, 4 muted yellow bags.\n",
    "bright white bags contain 1 shiny gold bag.\n",
    "muted yellow bags contain 2 shiny gold bags, 9 faded blue bags.\n",
    "shiny gold bags contain 1 dark olive bag, 2 vibrant plum bags.\n",
    "dark olive bags contain 3 faded blue bags, 4 dotted black bags.\n",
    "vibrant plum bags contain 5 faded blue bags, 6 dotted black bags.\n",
    "faded blue bags contain no other bags.\n",
    "dotted black bags contain no other bags.\n",
    "```\n",
    "\n",
    "These rules specify the required contents for 9 bag types. In this example, every `faded blue` bag is empty, every `vibrant plum` bag contains 11 bags (5 `faded blue` and 6 `dotted black`), and so on.\n",
    "\n",
    "You have a **`shiny gold`** bag. If you wanted to carry it in at least one other bag, how many different bag colors would be valid for the outermost bag? (In other words: how many colors can, eventually, contain at least one `shiny gold` bag?)\n",
    "\n",
    "In the above rules, the following options would be available to you:\n",
    "\n",
    "+ A `bright white` bag, which can hold your `shiny gold` bag directly.\n",
    "+ A `muted yellow` bag, which can hold your `shiny gold` bag directly, plus some other bags.\n",
    "+ A `dark orange` bag, which can hold `bright white` and `muted yellow` bags, either of which could then hold your `shiny gold` bag.\n",
    "+ A `light red` bag, which can hold `bright white` and `muted yellow` bags, either of which could then hold your `shiny gold` bag.\n",
    "\n",
    "So, in this example, the number of bag colors that can eventually contain at least one `shiny gold` bag is **`4`**.\n",
    "\n",
    "**How many bag colors can eventually contain at least one `shiny gold` bag?** (The list of rules is quite long; make sure you get all of it.)"
   ]
  },
  {
   "cell_type": "code",
   "execution_count": 103,
   "id": "acquired-america",
   "metadata": {},
   "outputs": [],
   "source": [
    "import re\n",
    "\n",
    "bag_rules = {}\n",
    "\n",
    "with open('input/day07.txt') as input_file:\n",
    "    lines = [l.strip() for l in input_file.readlines()]\n",
    "\n",
    "for l in lines:\n",
    "    starting_bag = {}\n",
    "    contents = {}\n",
    "    p = re.compile('^(.*) bag[s]+ contain (.*).$')\n",
    "    test = p.match(l)\n",
    "    \n",
    "    if(test.group(2) != 'no other bags'):\n",
    "        bags = test.group(2).split(', ')\n",
    "        for bag in test.group(2).split(', '):\n",
    "            new_bag = {}\n",
    "            p2 = re.compile('^([0-9]+) (.*) bag[s]?\\.?$')\n",
    "            test2 = p2.match(bag)\n",
    "            contents[test2.group(2)] = int(test2.group(1))\n",
    "    \n",
    "    bag_rules[test.group(1)] = contents"
   ]
  },
  {
   "cell_type": "code",
   "execution_count": 104,
   "id": "reserved-shore",
   "metadata": {},
   "outputs": [
    {
     "name": "stdout",
     "output_type": "stream",
     "text": [
      "252\n"
     ]
    }
   ],
   "source": [
    "def contains_shiny_gold(key):\n",
    "    if 'shiny gold' in bag_rules[key].keys():\n",
    "        return True\n",
    "    \n",
    "    does_contains = False\n",
    "    for child_key in bag_rules[key].keys():\n",
    "        does_contains = contains_shiny_gold(child_key)\n",
    "        if does_contains:\n",
    "            return True\n",
    "\n",
    "    return does_contains\n",
    "\n",
    "print(sum([1 for key in bag_rules.keys() if contains_shiny_gold(key)]))"
   ]
  },
  {
   "cell_type": "markdown",
   "id": "recreational-traffic",
   "metadata": {},
   "source": [
    "## --- Part Two ---\n",
    "\n",
    "It's getting pretty expensive to fly these days - not because of ticket prices, but because of the ridiculous number of bags you need to buy!\n",
    "\n",
    "Consider again your `shiny gold` bag and the rules from the above example:\n",
    "\n",
    "+ `faded blue` bags contain `0` other bags.\n",
    "+ `dotted black` bags contain `0` other bags.\n",
    "+ `vibrant plum` bags contain `11` other bags: 5 `faded blue` bags and 6 `dotted black` bags.\n",
    "+ `dark olive` bags contain 7 other bags: 3 `faded blue` bags and 4 `dotted black` bags.\n",
    "\n",
    "So, a single `shiny gold` bag must contain 1 `dark olive` bag (and the 7 bags within it) plus 2 `vibrant plum` bags (and the 11 bags within **each** of those): `1 + 1*7 + 2 + 2*11` = **`32`** bags!\n",
    "\n",
    "Of course, the actual rules have a small chance of going several levels deeper than this example; be sure to count all of the bags, even if the nesting becomes topologically impractical!\n",
    "\n",
    "Here's another example:\n",
    "\n",
    "```\n",
    "shiny gold bags contain 2 dark red bags.\n",
    "dark red bags contain 2 dark orange bags.\n",
    "dark orange bags contain 2 dark yellow bags.\n",
    "dark yellow bags contain 2 dark green bags.\n",
    "dark green bags contain 2 dark blue bags.\n",
    "dark blue bags contain 2 dark violet bags.\n",
    "dark violet bags contain no other bags.\n",
    "```\n",
    "\n",
    "In this example, a single `shiny gold` bag must contain **`126`** other bags.\n",
    "\n",
    "**How many individual bags are required inside your single shiny gold bag?**"
   ]
  },
  {
   "cell_type": "code",
   "execution_count": 108,
   "id": "expanded-parcel",
   "metadata": {},
   "outputs": [
    {
     "name": "stdout",
     "output_type": "stream",
     "text": [
      "35487\n"
     ]
    }
   ],
   "source": [
    "count = 0\n",
    "\n",
    "def get_total_bags(key):\n",
    "    sub_total = 0\n",
    "    if len(bag_rules[key].keys()) == 0:\n",
    "        return 1\n",
    "    \n",
    "    return sum([(bag_rules[key][bag] * get_total_bags(bag)) for bag in bag_rules[key].keys()]) + 1\n",
    "    \n",
    "print(get_total_bags('shiny gold')-1) # don't include the shiny gold bag itself"
   ]
  }
 ],
 "metadata": {
  "kernelspec": {
   "display_name": "Python 3",
   "language": "python",
   "name": "python3"
  },
  "language_info": {
   "codemirror_mode": {
    "name": "ipython",
    "version": 3
   },
   "file_extension": ".py",
   "mimetype": "text/x-python",
   "name": "python",
   "nbconvert_exporter": "python",
   "pygments_lexer": "ipython3",
   "version": "3.8.6"
  }
 },
 "nbformat": 4,
 "nbformat_minor": 5
}
