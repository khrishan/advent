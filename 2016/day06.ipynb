{
 "cells": [
  {
   "cell_type": "markdown",
   "id": "phantom-simon",
   "metadata": {},
   "source": [
    "# --- Day 6: Signals and Noise ---\n",
    "\n",
    "Something is jamming your communications with Santa. Fortunately, your signal is only partially jammed, and protocol in situations like this is to switch to a simple **repetition code** to get the message through.\n",
    "\n",
    "In this model, the same message is sent repeatedly. You've recorded the repeating message signal (your puzzle input), but the data seems quite corrupted - almost too badly to recover. **Almost**.\n",
    "\n",
    "All you need to do is figure out which character is most frequent for each position. For example, suppose you had recorded the following messages:\n",
    "\n",
    "```\n",
    "eedadn\n",
    "drvtee\n",
    "eandsr\n",
    "raavrd\n",
    "atevrs\n",
    "tsrnev\n",
    "sdttsa\n",
    "rasrtv\n",
    "nssdts\n",
    "ntnada\n",
    "svetve\n",
    "tesnvt\n",
    "vntsnd\n",
    "vrdear\n",
    "dvrsen\n",
    "enarar\n",
    "```\n",
    "\n",
    "The most common character in the first column is `e`; in the second, `a`; in the third, `s`, and so on. Combining these characters returns the error-corrected message, `easter`.\n",
    "\n",
    "Given the recording in your puzzle input, **what is the error-corrected version** of the message being sent?"
   ]
  },
  {
   "cell_type": "code",
   "execution_count": 13,
   "id": "wrong-aspect",
   "metadata": {},
   "outputs": [
    {
     "name": "stdout",
     "output_type": "stream",
     "text": [
      "asvcbhvg\n"
     ]
    }
   ],
   "source": [
    "from collections import Counter\n",
    "import operator\n",
    "\n",
    "with open('input/day06.txt') as input_file:\n",
    "    messages = input_file.read().split('\\n')\n",
    "\n",
    "final_message = ''\n",
    "\n",
    "length_of_msg = len(messages[0])\n",
    "\n",
    "for i in range(length_of_msg):\n",
    "    char = ''\n",
    "    amount = 0\n",
    "    \n",
    "    chars =  [m[i] for m in messages]\n",
    "    chars_dict = dict(Counter(chars).items())\n",
    "    final_message += max(chars_dict, key=chars_dict.get)\n",
    "\n",
    "print(final_message)"
   ]
  },
  {
   "cell_type": "markdown",
   "id": "patient-disability",
   "metadata": {},
   "source": [
    "## --- Part Two ---\n",
    "\n",
    "Of course, that **would** be the message - if you hadn't agreed to use a **modified repetition** code instead.\n",
    "\n",
    "In this modified code, the sender instead transmits what looks like random data, but for each character, the character they actually want to send is **slightly less likely** than the others. Even after signal-jamming noise, you can look at the letter distributions in each column and choose the **least common** letter to reconstruct the original message.\n",
    "\n",
    "In the above example, the least common character in the first column is `a`; in the second, `d`, and so on. Repeating this process for the remaining characters produces the original message, `advent`.\n",
    "\n",
    "Given the recording in your puzzle input and this new decoding methodology, **what is the original message** that Santa is trying to send?"
   ]
  },
  {
   "cell_type": "code",
   "execution_count": 14,
   "id": "operating-region",
   "metadata": {},
   "outputs": [
    {
     "name": "stdout",
     "output_type": "stream",
     "text": [
      "odqnikqv\n"
     ]
    }
   ],
   "source": [
    "final_message = ''\n",
    "\n",
    "for i in range(length_of_msg):\n",
    "    char = ''\n",
    "    amount = 0\n",
    "    \n",
    "    chars =  [m[i] for m in messages]\n",
    "    chars_dict = dict(Counter(chars).items())\n",
    "    final_message += min(chars_dict, key=chars_dict.get)\n",
    "\n",
    "print(final_message)"
   ]
  }
 ],
 "metadata": {
  "kernelspec": {
   "display_name": "Python 3",
   "language": "python",
   "name": "python3"
  },
  "language_info": {
   "codemirror_mode": {
    "name": "ipython",
    "version": 3
   },
   "file_extension": ".py",
   "mimetype": "text/x-python",
   "name": "python",
   "nbconvert_exporter": "python",
   "pygments_lexer": "ipython3",
   "version": "3.8.6"
  }
 },
 "nbformat": 4,
 "nbformat_minor": 5
}
