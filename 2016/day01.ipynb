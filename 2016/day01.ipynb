{
 "cells": [
  {
   "cell_type": "markdown",
   "id": "adequate-musician",
   "metadata": {},
   "source": [
    "# --- Day 1: No Time for a Taxicab ---\n",
    "\n",
    "Santa's sleigh uses a very high-precision clock to guide its movements, and the clock's oscillator is regulated by stars. Unfortunately, the stars have been stolen... by the Easter Bunny. To save Christmas, Santa needs you to retrieve all **fifty stars** by December 25th.\n",
    "\n",
    "Collect stars by solving puzzles. Two puzzles will be made available on each day in the Advent calendar; the second puzzle is unlocked when you complete the first. Each puzzle grants **one**. Good luck!\n",
    "\n",
    "You're airdropped near **Easter Bunny Headquarters** in a city somewhere. \"Near\", unfortunately, is as close as you can get - the instructions on the Easter Bunny Recruiting Document the Elves intercepted start here, and nobody had time to work them out further.\n",
    "\n",
    "The Document indicates that you should start at the given coordinates (where you just landed) and face North. Then, follow the provided sequence: either turn left (`L`) or right (`R`) 90 degrees, then walk forward the given number of blocks, ending at a new intersection.\n",
    "\n",
    "There's no time to follow such ridiculous instructions on foot, though, so you take a moment and work out the destination. Given that you can only walk on the **street grid of the city**, how far is the shortest path to the destination?\n",
    "\n",
    "For example:\n",
    "\n",
    "+ Following `R2, L3` leaves you `2` blocks East and `3` blocks North, or `5` blocks away.\n",
    "+ `R2, R2, R2` leaves you `2` blocks due South of your starting position, which is `2` blocks away.\n",
    "+ `R5, L5, R5, R3` leaves you `12` blocks away.\n",
    "\n",
    "How many **blocks away** is Easter Bunny HQ?"
   ]
  },
  {
   "cell_type": "code",
   "execution_count": 14,
   "id": "unavailable-bookmark",
   "metadata": {},
   "outputs": [
    {
     "name": "stdout",
     "output_type": "stream",
     "text": [
      "Part A : 226\n"
     ]
    }
   ],
   "source": [
    "steps = []\n",
    "\n",
    "coords = {\n",
    "    'x' : 0,\n",
    "    'y' : 0\n",
    "}\n",
    "\n",
    "facing = 'North'\n",
    "\n",
    "directions = {\n",
    "    'North' : {\n",
    "        'L' : 'West',\n",
    "        'R' : 'East',\n",
    "    },\n",
    "    'East' : {\n",
    "        'L' : 'North',\n",
    "        'R' : 'South',\n",
    "    },\n",
    "    'South' : {\n",
    "        'L' : 'East',\n",
    "        'R' : 'West',\n",
    "    },\n",
    "    'West' : {\n",
    "        'L' : 'South',\n",
    "        'R' : 'North',\n",
    "    },\n",
    "}\n",
    "\n",
    "with open(\"input/day01.txt\", \"r\") as input_file:\n",
    "    steps = input_file.read().split(', ')\n",
    "\n",
    "for step in steps:\n",
    "    turn = step[0]\n",
    "    number = int(step[1:])\n",
    "    \n",
    "    facing = directions[facing][turn]\n",
    "    \n",
    "    if facing == 'North':\n",
    "        coords['y'] += number\n",
    "    elif facing == 'South':\n",
    "        coords['y'] -= number\n",
    "    elif facing == 'East':\n",
    "        coords['x'] += number\n",
    "    elif facing == 'West':\n",
    "        coords['x'] -= number\n",
    "\n",
    "total_steps = abs(coords['x']) + abs(coords['y'])\n",
    "\n",
    "print('Part A : {}'.format(total_steps))\n"
   ]
  },
  {
   "cell_type": "markdown",
   "id": "sexual-storage",
   "metadata": {},
   "source": [
    "## --- Part Two ---\n",
    "\n",
    "Then, you notice the instructions continue on the back of the Recruiting Document. Easter Bunny HQ is actually at the first location you visit twice.\n",
    "\n",
    "For example, if your instructions are `R8, R4, R4, R8`, the first location you visit twice is `4` blocks away, due East.\n",
    "\n",
    "How many blocks away is the **first location you visit twice**?"
   ]
  },
  {
   "cell_type": "code",
   "execution_count": 26,
   "id": "electoral-membrane",
   "metadata": {},
   "outputs": [
    {
     "name": "stdout",
     "output_type": "stream",
     "text": [
      "Part B : 79\n"
     ]
    }
   ],
   "source": [
    "visited_coords = set()\n",
    "has_visited = False\n",
    "coords = {\n",
    "    'x' : 0,\n",
    "    'y' : 0\n",
    "}\n",
    "\n",
    "for step in steps:\n",
    "    turn = step[0]\n",
    "    number = int(step[1:])\n",
    "    \n",
    "    facing = directions[facing][turn]\n",
    "    \n",
    "    for i in range(0, number):\n",
    "        if facing == 'North':\n",
    "            coords['y'] += 1\n",
    "        elif facing == 'South':\n",
    "            coords['y'] -= 1\n",
    "        elif facing == 'East':\n",
    "            coords['x'] += 1\n",
    "        elif facing == 'West':\n",
    "            coords['x'] -= 1\n",
    "        \n",
    "        visited = '{}_{}'.format(coords['x'], coords['y'])\n",
    "        \n",
    "        if visited in visited_coords:\n",
    "            has_visited = True\n",
    "            break\n",
    "        visited_coords.add(visited)\n",
    "    \n",
    "    if has_visited:\n",
    "        break\n",
    "\n",
    "total_steps = abs(coords['x']) + abs(coords['y'])\n",
    "\n",
    "print('Part B : {}'.format(total_steps))"
   ]
  }
 ],
 "metadata": {
  "kernelspec": {
   "display_name": "Python 3",
   "language": "python",
   "name": "python3"
  },
  "language_info": {
   "codemirror_mode": {
    "name": "ipython",
    "version": 3
   },
   "file_extension": ".py",
   "mimetype": "text/x-python",
   "name": "python",
   "nbconvert_exporter": "python",
   "pygments_lexer": "ipython3",
   "version": "3.8.6"
  }
 },
 "nbformat": 4,
 "nbformat_minor": 5
}
