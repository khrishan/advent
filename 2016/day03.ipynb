{
 "cells": [
  {
   "cell_type": "markdown",
   "id": "israeli-heating",
   "metadata": {},
   "source": [
    "# --- Day 3: Squares With Three Sides ---\n",
    "\n",
    "Now that you can think clearly, you move deeper into the labyrinth of hallways and office furniture that makes up this part of Easter Bunny HQ. This must be a graphic design department; the walls are covered in specifications for triangles.\n",
    "\n",
    "Or are they?\n",
    "\n",
    "The design document gives the side lengths of each triangle it describes, but... `5 10 25`? Some of these aren't triangles. You can't help but mark the impossible ones.\n",
    "\n",
    "In a valid triangle, the sum of any two sides must be larger than the remaining side. For example, the \"triangle\" given above is impossible, because `5 + 10` is not larger than `25`.\n",
    "\n",
    "In your puzzle input, how many of the listed triangles are possible?"
   ]
  },
  {
   "cell_type": "code",
   "execution_count": 61,
   "id": "digital-anthropology",
   "metadata": {},
   "outputs": [
    {
     "name": "stdout",
     "output_type": "stream",
     "text": [
      "Part A : 862\n"
     ]
    }
   ],
   "source": [
    "from itertools import permutations\n",
    "\n",
    "valid_triangles = 0\n",
    "\n",
    "with open('input/day03.txt') as input_file:\n",
    "    triangles = input_file.read().split('\\n')\n",
    "\n",
    "for t in triangles:\n",
    "    numbers = [int(t[0:3]), int(t[5:8]), int(t[10:])]\n",
    "    combos = permutations(numbers)\n",
    "    \n",
    "    is_valid_triangle = True\n",
    "    for c in list(combos):\n",
    "        if c[0] + c[1] <= c[2]:\n",
    "            is_valid_triangle = False\n",
    "            break\n",
    "    \n",
    "    if is_valid_triangle:\n",
    "        valid_triangles += 1\n",
    "    \n",
    "print('Part A : {}'.format(valid_triangles))\n",
    "    "
   ]
  },
  {
   "cell_type": "markdown",
   "id": "fatal-romania",
   "metadata": {},
   "source": [
    "## --- Part Two ---\n",
    "\n",
    "Now that you've helpfully marked up their design documents, it occurs to you that triangles are specified in groups of three **vertically**. Each set of three numbers in a column specifies a triangle. Rows are unrelated.\n",
    "\n",
    "For example, given the following specification, numbers with the same hundreds digit would be part of the same triangle:\n",
    "\n",
    "```\n",
    "101 301 501\n",
    "102 302 502\n",
    "103 303 503\n",
    "201 401 601\n",
    "202 402 602\n",
    "203 403 603\n",
    "```\n",
    "\n",
    "In your puzzle input, and instead reading by columns, **how many** of the listed triangles are **possible**?"
   ]
  },
  {
   "cell_type": "code",
   "execution_count": 73,
   "id": "executive-master",
   "metadata": {},
   "outputs": [
    {
     "name": "stdout",
     "output_type": "stream",
     "text": [
      "Part B : 1577\n"
     ]
    }
   ],
   "source": [
    "from itertools import permutations\n",
    "\n",
    "valid_triangles = 0\n",
    "\n",
    "with open('input/day03.txt') as input_file:\n",
    "    triangles = input_file.read().split('\\n')\n",
    "\n",
    "for i in range(0, len(triangles)-2, 3): # for every three rows\n",
    "    new_triangles = []\n",
    "    new_triangles.append([int(triangles[i][0:3]), int(triangles[i+1][0:3]), int(triangles[i+2][0:3])])\n",
    "    new_triangles.append([int(triangles[i][5:8]), int(triangles[i+1][5:8]), int(triangles[i+2][5:8])])\n",
    "    new_triangles.append([int(triangles[i][10:]), int(triangles[i+1][10:]), int(triangles[i+2][10:])])\n",
    "    \n",
    "    for t in new_triangles:\n",
    "        combos = permutations(t)\n",
    "\n",
    "        is_valid_triangle = True\n",
    "        for c in list(combos):\n",
    "            if c[0] + c[1] <= c[2]:\n",
    "                is_valid_triangle = False\n",
    "                break\n",
    "\n",
    "        if is_valid_triangle:\n",
    "            valid_triangles += 1\n",
    "    \n",
    "print('Part B : {}'.format(valid_triangles))"
   ]
  }
 ],
 "metadata": {
  "kernelspec": {
   "display_name": "Python 3",
   "language": "python",
   "name": "python3"
  },
  "language_info": {
   "codemirror_mode": {
    "name": "ipython",
    "version": 3
   },
   "file_extension": ".py",
   "mimetype": "text/x-python",
   "name": "python",
   "nbconvert_exporter": "python",
   "pygments_lexer": "ipython3",
   "version": "3.8.6"
  }
 },
 "nbformat": 4,
 "nbformat_minor": 5
}
