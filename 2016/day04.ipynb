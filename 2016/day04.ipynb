{
 "cells": [
  {
   "cell_type": "markdown",
   "id": "fitting-photography",
   "metadata": {},
   "source": [
    "# --- Day 4: Security Through Obscurity ---\n",
    "\n",
    "Finally, you come across an information kiosk with a list of rooms. Of course, the list is encrypted and full of decoy data, but the instructions to decode the list are barely hidden nearby. Better remove the decoy data first.\n",
    "\n",
    "Each room consists of an encrypted name (lowercase letters separated by dashes) followed by a dash, a sector ID, and a checksum in square brackets.\n",
    "\n",
    "A room is real (not a decoy) if the checksum is the five most common letters in the encrypted name, in order, with ties broken by alphabetization. For example:\n",
    "\n",
    "+ `aaaaa-bbb-z-y-x-123[abxyz]` is a real room because the most common letters are `a` (5), `b` (3), and then a tie between `x`, `y`, and `z`, which are listed alphabetically.\n",
    "+ `a-b-c-d-e-f-g-h-987[abcde]` is a real room because although the letters are all tied (1 of each), the first five are listed alphabetically.\n",
    "+ `not-a-real-room-404[oarel]` is a real room.\n",
    "+ `totally-real-room-200[decoy]` is not.\n",
    "Of the real rooms from the list above, the sum of their sector IDs is 1514.\n",
    "\n",
    "What is the **sum of the sector IDs of the real rooms**?"
   ]
  },
  {
   "cell_type": "code",
   "execution_count": null,
   "id": "posted-pastor",
   "metadata": {},
   "outputs": [],
   "source": [
    "def char_frequency(str1):\n",
    "    dict = {}\n",
    "    for n in str1:\n",
    "        keys = dict.keys()\n",
    "        if n in keys:\n",
    "            dict[n] += 1\n",
    "        else:\n",
    "            dict[n] = 1\n",
    "    return dict\n",
    "\n",
    "with open('input/day04.txt') as input_file:\n",
    "    rooms = input_file.read().split('\\n')\n",
    "    \n",
    "sector_id_sum = 0\n",
    "\n",
    "for room in rooms:\n",
    "    \n",
    "    roomname = room[:len(room)-11:]\n",
    "    checksum = room[-6:len(room)-1:]\n",
    "    sector_id = int(room[-10:len(room)-1:][0:3])\n",
    "#     print(room)\n",
    "#     print(room[:len(room)-11:]) # roomname\n",
    "#     print(room[-6:len(room)-1:]) # checksum\n",
    "#     print(int(room[-10:len(room)-1:][0:3])) # sectorID\n",
    "#     print('')\n",
    "    \n",
    "    \n",
    "    freqs = char_frequency(roomname)\n",
    "    is_valid = True\n",
    "    \n",
    "    if checksum[0] not in freqs.keys():\n",
    "        continue\n",
    "        \n",
    "    count = freqs[checksum[0]]\n",
    "    for i in range(1, len(checksum)):\n",
    "        if checksum[i] not in freqs.keys():\n",
    "            is_valid = False\n",
    "            break\n",
    "        is_valid = count >= freqs[checksum[i]]\n",
    "        if not is_valid:\n",
    "            break\n",
    "    \n",
    "    if is_valid:\n",
    "        sector_id_sum += sector_id\n",
    "\n",
    "print(sector_id_sum)\n",
    "    "
   ]
  },
  {
   "cell_type": "code",
   "execution_count": null,
   "id": "horizontal-pavilion",
   "metadata": {
    "collapsed": true
   },
   "outputs": [],
   "source": []
  }
 ],
 "metadata": {
  "celltoolbar": "Edit Metadata",
  "kernelspec": {
   "display_name": "Python 3",
   "language": "python",
   "name": "python3"
  },
  "language_info": {
   "codemirror_mode": {
    "name": "ipython",
    "version": 3
   },
   "file_extension": ".py",
   "mimetype": "text/x-python",
   "name": "python",
   "nbconvert_exporter": "python",
   "pygments_lexer": "ipython3",
   "version": "3.8.6"
  }
 },
 "nbformat": 4,
 "nbformat_minor": 5
}
