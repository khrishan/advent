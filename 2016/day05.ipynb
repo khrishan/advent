{
 "cells": [
  {
   "cell_type": "markdown",
   "id": "toxic-ground",
   "metadata": {},
   "source": [
    "# --- Day 5: How About a Nice Game of Chess? ---\n",
    "\n",
    "You are faced with a security door designed by Easter Bunny engineers that seem to have acquired most of their security knowledge by watching **hacking movies**.\n",
    "\n",
    "The **eight-character password** for the door is generated one character at a time by finding the **MD5** hash of some Door ID (your puzzle input) and an increasing integer index (starting with `0`).\n",
    "\n",
    "A hash indicates the **next character** in the password if its **hexadecimal** representation starts with **five zeroes**. If it does, the sixth character in the hash is the next character of the password.\n",
    "\n",
    "For example, if the Door ID is `abc`:\n",
    "\n",
    "+ The first index which produces a hash that starts with five zeroes is 3231929, which we find by hashing `abc3231929`; the sixth character of the hash, and thus the first character of the password, is `1`.\n",
    "+ `5017308` produces the next interesting hash, which starts with `000008f82...`, so the second character of the password is `8`.\n",
    "+ The third time a hash starts with five zeroes is for `abc5278568`, discovering the character `f`.\n",
    "\n",
    "In this example, after continuing this search a total of eight times, the password is 18f47a30.\n",
    "\n",
    "Given the actual Door ID, what is the password?"
   ]
  },
  {
   "cell_type": "code",
   "execution_count": 23,
   "id": "regulated-princeton",
   "metadata": {},
   "outputs": [
    {
     "name": "stdout",
     "output_type": "stream",
     "text": [
      "f77a0e6e9\n"
     ]
    }
   ],
   "source": [
    "import hashlib\n",
    "\n",
    "puzzle_input = 'cxdnnyjw'\n",
    "\n",
    "password = ''\n",
    "\n",
    "count = 0\n",
    "while len(password) < 9:\n",
    "    door_id = '{}{}'.format(puzzle_input, count)\n",
    "    result = hashlib.md5(door_id.encode()).hexdigest()\n",
    "    if result[0:5] == '00000':\n",
    "        password += result[5]\n",
    "    \n",
    "    count += 1\n",
    "    \n",
    "    \n",
    "print(password)\n"
   ]
  },
  {
   "cell_type": "markdown",
   "id": "blessed-timothy",
   "metadata": {},
   "source": [
    "## --- Part Two ---\n",
    "\n",
    "As the door slides open, you are presented with a second door that uses a slightly more inspired security mechanism. Clearly unimpressed by the last version (in what movie is the password decrypted **in order**?!), the Easter Bunny engineers have worked out a better solution.\n",
    "\n",
    "Instead of simply filling in the password from left to right, the hash now also indicates the **position** within the password to fill. You still look for hashes that begin with five zeroes; however, now, the **sixth** character represents the **position** (`0`-`7`), and the **seventh** character is the character to put in that position.\n",
    "\n",
    "A hash result of `000001f` means that `f` is the **second** character in the password. Use only the **first result** for each position, and ignore invalid positions.\n",
    "\n",
    "For example, if the Door ID is `abc`:\n",
    "\n",
    "+ The first interesting hash is from `abc3231929`, which produces `0000015...`; so, `5` goes in position `1`: `_5______`.\n",
    "+ In the previous method, `5017308` produced an interesting hash; however, it is ignored, because it specifies an invalid position (`8`).\n",
    "+ The second interesting hash is at index `535752`5, which produces `000004e...`; so, `e` goes in position `4`: `_5__e___`.\n",
    "\n",
    "You almost choke on your popcorn as the final character falls into place, producing the password `05ace8e3`.\n",
    "\n",
    "Given the actual Door ID and this new method, **what is the password**? Be extra proud of your solution if it uses a cinematic \"decrypting\" animation."
   ]
  },
  {
   "cell_type": "code",
   "execution_count": 43,
   "id": "amended-grocery",
   "metadata": {},
   "outputs": [
    {
     "name": "stdout",
     "output_type": "stream",
     "text": [
      "_______c\n",
      "9______c\n",
      "9_____ec\n",
      "9___2_ec\n",
      "9_9_2_ec\n",
      "9_982_ec\n",
      "9_9828ec\n",
      "999828ec\n"
     ]
    }
   ],
   "source": [
    "#import hashlib\n",
    "\n",
    "puzzle_input = 'cxdnnyjw'\n",
    "alphabet = 'abcdefghijklmnopqrstuvwxyz'\n",
    "\n",
    "password = list('________')\n",
    "\n",
    "count = 0\n",
    "while ''.join(password).find('_') != -1:\n",
    "    door_id = '{}{}'.format(puzzle_input, count)\n",
    "    result = hashlib.md5(door_id.encode()).hexdigest()\n",
    "    if result[0:5] == '00000':\n",
    "        index = result[5]\n",
    "        if alphabet.find(index) == -1 and int(index) < 8:\n",
    "            index2 = int(index)\n",
    "            if(password[index2] == '_'):  \n",
    "                password[index2] = result[6]\n",
    "                print(''.join(password))\n",
    "    count += 1"
   ]
  }
 ],
 "metadata": {
  "kernelspec": {
   "display_name": "Python 3",
   "language": "python",
   "name": "python3"
  },
  "language_info": {
   "codemirror_mode": {
    "name": "ipython",
    "version": 3
   },
   "file_extension": ".py",
   "mimetype": "text/x-python",
   "name": "python",
   "nbconvert_exporter": "python",
   "pygments_lexer": "ipython3",
   "version": "3.8.6"
  }
 },
 "nbformat": 4,
 "nbformat_minor": 5
}
