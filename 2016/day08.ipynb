{
 "cells": [
  {
   "cell_type": "markdown",
   "id": "welsh-rover",
   "metadata": {},
   "source": [
    "# --- Day 8: Two-Factor Authentication ---\n",
    "\n",
    "You come across a door implementing what you can only assume is an implementation of **two-factor authentication** after a long game of **requirements telephone**.\n",
    "\n",
    "To get past the door, you first swipe a keycard (no problem; there was one on a nearby desk). Then, it displays a code on a **little screen**, and you type that code on a keypad. Then, presumably, the door unlocks.\n",
    "\n",
    "Unfortunately, the screen has been smashed. After a few minutes, you've taken everything apart and figured out how it works. Now you just have to work out what the screen **would** have displayed.\n",
    "\n",
    "The magnetic strip on the card you swiped encodes a series of instructions for the screen; these instructions are your puzzle input. The screen is **50 pixels wide and 6 pixels tall**, all of which start **off**, and is capable of three somewhat peculiar operations:\n",
    "\n",
    "+ `rect AxB` turns **on** all of the pixels in a rectangle at the top-left of the screen which is `A` wide and `B` tall.\n",
    "\n",
    "+ `rotate row y=A by B` shifts all of the pixels in row `A` (0 is the top row) **right** by `B` pixels. Pixels that would fall off the right end appear at the left end of the row.\n",
    "\n",
    "+ `rotate column x=A by B` shifts all of the pixels in column `A` (0 is the left column) **down** by `B` pixels. Pixels that would fall off the bottom appear at the top of the column.\n",
    "\n",
    "For example, here is a simple sequence on a smaller screen:\n",
    "\n",
    "+ `rect 3x2` creates a small rectangle in the top-left corner:\n",
    "\n",
    "```\n",
    "###....\n",
    "###....\n",
    ".......\n",
    "```\n",
    "\n",
    "+ `rotate column x=1 by 1` rotates the second column down by one pixel:\n",
    "\n",
    "```\n",
    "#.#....\n",
    "###....\n",
    ".#.....\n",
    "```\n",
    "\n",
    "+ `rotate row y=0 by 4` rotates the top row right by four pixels:\n",
    "\n",
    "```\n",
    "....#.#\n",
    "###....\n",
    ".#.....\n",
    "```\n",
    "\n",
    "+ `rotate column x=1 by 1` again rotates the second column down by one pixel, causing the bottom pixel to wrap back to the top:\n",
    "\n",
    "```\n",
    ".#..#.#\n",
    "#.#....\n",
    ".#.....\n",
    "```\n",
    "\n",
    "As you can see, this display technology is extremely powerful, and will soon dominate the tiny-code-displaying-screen market. That's what the advertisement on the back of the display tries to convince you, anyway.\n",
    "\n",
    "There seems to be an intermediate check of the voltage used by the display: after you swipe your card, if the screen did work, **how many pixels should be lit**?"
   ]
  },
  {
   "cell_type": "code",
   "execution_count": 72,
   "id": "considered-magazine",
   "metadata": {},
   "outputs": [
    {
     "name": "stdout",
     "output_type": "stream",
     "text": [
      "110\n"
     ]
    }
   ],
   "source": [
    "from collections import Counter\n",
    "\n",
    "instructions = []\n",
    "x=50\n",
    "y=6\n",
    "        \n",
    "def count_on_lights(screen):\n",
    "    return sum([sum([1 for light in row if light == '#']) for row in screen])\n",
    "        \n",
    "\n",
    "screen = [['_' for i in range(x)] for j in range(y)]\n",
    "\n",
    "with open('input/day08.txt', 'r') as i:\n",
    "    instructions = [j.strip() for j in i.readlines()]\n",
    "\n",
    "for instruction in instructions:\n",
    "    if 'rect' in instruction: #rect\n",
    "        instruction = instruction.replace('rect ', '')\n",
    "        instruction = instruction.split('x')\n",
    "        a, b = int(instruction[0]), int(instruction[1])\n",
    "        \n",
    "        for j in range(b):\n",
    "            for i in range(a):\n",
    "                screen[j][i] = '#'\n",
    "        \n",
    "    elif 'rotate column' in instruction:  #column\n",
    "        instruction = instruction.replace('rotate column x=', '')\n",
    "        instruction = instruction.split(' by ')\n",
    "        col_num, amount = int(instruction[0]), int(instruction[1])\n",
    "        prev = [screen[r][col_num] for r in range(y)]\n",
    "        \n",
    "        for r in range(y):\n",
    "            screen[r][col_num] = prev[r - amount]\n",
    "        \n",
    "    elif 'rotate row' in instruction:  #row\n",
    "        instruction = instruction.replace('rotate row y=', '')\n",
    "        instruction = instruction.split(' by ')\n",
    "        row_num, amount = int(instruction[0]), int(instruction[1])\n",
    "        prev = screen[row_num][:]\n",
    "        for r in range(x):\n",
    "            screen[row_num][r] = prev[r - amount]\n",
    "\n",
    "print(count_on_lights(screen))"
   ]
  },
  {
   "cell_type": "markdown",
   "id": "gentle-victorian",
   "metadata": {},
   "source": [
    "## --- Part Two ---\n",
    "\n",
    "You notice that the screen is only capable of displaying capital letters; in the font it uses, each letter is `5` pixels wide and `6` tall.\n",
    "\n",
    "After you swipe your card, what code is the screen trying to display?"
   ]
  },
  {
   "cell_type": "code",
   "execution_count": 62,
   "id": "demanding-coaching",
   "metadata": {},
   "outputs": [
    {
     "name": "stdout",
     "output_type": "stream",
     "text": [
      "####___##_#__#_###__#__#__##__###__#____#___#__##_\n",
      "___#____#_#__#_#__#_#_#__#__#_#__#_#____#___#___#_\n",
      "__#_____#_####_#__#_##___#____#__#_#_____#_#____#_\n",
      "_#______#_#__#_###__#_#__#____###__#______#_____#_\n",
      "#____#__#_#__#_#_#__#_#__#__#_#____#______#__#__#_\n",
      "####__##__#__#_#__#_#__#__##__#____####___#___##__\n"
     ]
    }
   ],
   "source": [
    "def print_screen(screen):\n",
    "    for i in range(len(screen)):\n",
    "        print(''.join(screen[i]))\n",
    "\n",
    "print_screen(screen)"
   ]
  },
  {
   "cell_type": "markdown",
   "id": "young-boost",
   "metadata": {},
   "source": [
    "ZJHRKCPLYJ"
   ]
  }
 ],
 "metadata": {
  "kernelspec": {
   "display_name": "Python 3",
   "language": "python",
   "name": "python3"
  },
  "language_info": {
   "codemirror_mode": {
    "name": "ipython",
    "version": 3
   },
   "file_extension": ".py",
   "mimetype": "text/x-python",
   "name": "python",
   "nbconvert_exporter": "python",
   "pygments_lexer": "ipython3",
   "version": "3.8.6"
  }
 },
 "nbformat": 4,
 "nbformat_minor": 5
}
