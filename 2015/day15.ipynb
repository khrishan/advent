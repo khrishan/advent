{
 "cells": [
  {
   "cell_type": "markdown",
   "metadata": {},
   "source": [
    "## --- Day 15: Science for Hungry People ---\n",
    "\n",
    "Today, you set out on the task of perfecting your milk-dunking cookie recipe. All you have to do is find the right balance of ingredients.\n",
    "\n",
    "Your recipe leaves room for exactly `100` teaspoons of ingredients. You make a list of the **remaining ingredients you could use to finish the recipe** (your puzzle input) and their **properties per teaspoon**:\n",
    "\n",
    "+ `capacity` (how well it helps the cookie absorb milk)\n",
    "+ `durability` (how well it keeps the cookie intact when full of milk)\n",
    "+ `flavor` (how tasty it makes the cookie)\n",
    "+ `texture` (how it improves the feel of the cookie)\n",
    "+ `calories` (how many calories it adds to the cookie)\n",
    "\n",
    "You can only measure ingredients in whole-teaspoon amounts accurately, and you have to be accurate so you can reproduce your results in the future. The **total score** of a cookie can be found by adding up each of the properties (negative totals become 0) and then multiplying together everything except calories.\n",
    "\n",
    "For instance, suppose you have these two ingredients:\n",
    "\n",
    "```\n",
    "Butterscotch: capacity -1, durability -2, flavor 6, texture 3, calories 8\n",
    "Cinnamon: capacity 2, durability 3, flavor -2, texture -1, calories 3\n",
    "```\n",
    "\n",
    "Then, choosing to use `44` teaspoons of butterscotch and `56` teaspoons of cinnamon (because the amounts of each ingredient must add up to `100`) would result in a cookie with the following properties:\n",
    "\n",
    "+ A `capacity` of `44*-1 + 56*2 = 68`\n",
    "+ A `durability` of `44*-2 + 56*3 = 80`\n",
    "+ A `flavor` of `44*6 + 56*-2 = 152`\n",
    "+ A `texture` of `44*3 + 56*-1 = 76`\n",
    "\n",
    "Multiplying these together (`68 * 80 * 152 * 76`, ignoring calories for now) results in a total score of `62842880`, which happens to be the best score possible given these ingredients. If any properties had produced a negative total, it would have instead become zero, causing the whole score to multiply to zero.\n",
    "        \n",
    "Given the ingredients in your kitchen and their properties, what is the total score of the highest-scoring cookie you can make?"
   ]
  },
  {
   "cell_type": "code",
   "execution_count": 16,
   "metadata": {},
   "outputs": [
    {
     "name": "stdout",
     "output_type": "stream",
     "text": [
      "Part 1 : 222870\n"
     ]
    }
   ],
   "source": [
    "import re\n",
    "\n",
    "def get_data(filename):\n",
    "    lines = [line.strip() for line in open(filename)]\n",
    "    \n",
    "    pattern = re.compile(\"([A-Za-z]+): capacity (\\-?[0-9]), durability (\\-?[0-9]), flavor (\\-?[0-9]), texture (\\-?[0-9]), calories (\\-?[0-9])\")\n",
    "\n",
    "    ingredients = {}\n",
    "\n",
    "    for l in lines:\n",
    "        m = re.match(pattern, l)\n",
    "        if m:\n",
    "            ingredient = m.group(1)\n",
    "            capacity = int(m.group(2))\n",
    "            durability = int(m.group(3))\n",
    "            flavor = int(m.group(4))\n",
    "            texture = int(m.group(5))\n",
    "            calories = int(m.group(6))\n",
    "\n",
    "            ingredients[ingredient] = { 'capacity' : capacity,\n",
    "                                     'durability': durability,\n",
    "                                     'flavor' : flavor,\n",
    "                                     'texture': texture,\n",
    "                                     'calories': calories  \n",
    "                                    }\n",
    "    return ingredients\n",
    "\n",
    "         \n",
    "def combinations(keys):\n",
    "    teaspoons = 100\n",
    "\n",
    "    for i in range(0, teaspoons + 1):\n",
    "        for j in range(0, teaspoons + 1 - i):\n",
    "            for k in range(0, teaspoons + 1 - (i + j)):\n",
    "                l = teaspoons - (i + j + k)\n",
    "                yield(dict(zip(keys, [i, j, k, l])))\n",
    "\n",
    "def get_score(data, combo):\n",
    "    combo_totals = {'capacity' : 0,\n",
    "                    'durability' : 0,\n",
    "                    'flavor' : 0,\n",
    "                    'texture' : 0                   \n",
    "                    }\n",
    "    for ingredient in combo:\n",
    "        combo_totals['capacity'] += data[ingredient]['capacity'] * combo[ingredient]\n",
    "        combo_totals['durability'] += data[ingredient]['durability'] * combo[ingredient]\n",
    "        combo_totals['flavor'] += data[ingredient]['flavor'] * combo[ingredient]\n",
    "        combo_totals['texture'] += data[ingredient]['texture'] * combo[ingredient]\n",
    "    \n",
    "    for c in combo_totals:\n",
    "        if combo_totals[c] < 0:\n",
    "            combo_totals[c] = 0\n",
    "    \n",
    "    val = list(combo_totals.values())\n",
    "    total = 1\n",
    "    for i in range(0, len(val)):\n",
    "        total *= val[i]\n",
    "\n",
    "    return total\n",
    "\n",
    "def get_highest(data):\n",
    "    combos = combinations(data.keys())\n",
    "\n",
    "    highest = -1\n",
    "\n",
    "    for combo in combos:\n",
    "        score = get_score(data, combo)\n",
    "\n",
    "        if score > highest:\n",
    "            highest = score\n",
    "\n",
    "    return highest\n",
    "\n",
    "data = get_data('input/day15.txt')\n",
    "\n",
    "print('Part 1 : {}'.format(get_highest(data)))"
   ]
  },
  {
   "cell_type": "markdown",
   "metadata": {},
   "source": [
    "## --- Part Two ---\n",
    "\n",
    "Your cookie recipe becomes wildly popular! Someone asks if you can make another recipe that has exactly `500` calories per cookie (so they can use it as a meal replacement). Keep the rest of your award-winning process the same (100 teaspoons, same ingredients, same scoring system).\n",
    "\n",
    "For example, given the ingredients above, if you had instead selected `40` teaspoons of butterscotch and `60` teaspoons of cinnamon (which still adds to `100`), the total calorie count would be `40*8 + 60*3 = 500`. The total score would go down, though: only `57600000`, the best you can do in such trying circumstances.\n",
    "\n",
    "Given the ingredients in your kitchen and their properties, what is the total score of the highest-scoring cookie you can make with a calorie total of `500`?"
   ]
  },
  {
   "cell_type": "code",
   "execution_count": 18,
   "metadata": {},
   "outputs": [
    {
     "name": "stdout",
     "output_type": "stream",
     "text": [
      "Part 2 : 117936\n"
     ]
    }
   ],
   "source": [
    "def get_calories(data, combo):\n",
    "    calories = 0\n",
    "    for ingredient in combo:\n",
    "        calories += combo[ingredient] * data[ingredient]['calories']\n",
    "    \n",
    "    return calories\n",
    "\n",
    "def get_score_for_calories(data, calories):\n",
    "\n",
    "    combos = combinations(data.keys())\n",
    "\n",
    "    highest = -1\n",
    "\n",
    "    for combo in combos:\n",
    "        if get_calories(data, combo) == calories:\n",
    "            calories = get_calories(data, combo)\n",
    "            score = get_score(data, combo)\n",
    "\n",
    "            if score > highest:\n",
    "                highest = score\n",
    "    \n",
    "    return highest\n",
    "\n",
    "print('Part 2 : {}'.format(get_score_for_calories(data, 500)))"
   ]
  }
 ],
 "metadata": {
  "kernelspec": {
   "display_name": "Python 3",
   "language": "python",
   "name": "python3"
  },
  "language_info": {
   "codemirror_mode": {
    "name": "ipython",
    "version": 3
   },
   "file_extension": ".py",
   "mimetype": "text/x-python",
   "name": "python",
   "nbconvert_exporter": "python",
   "pygments_lexer": "ipython3",
   "version": "3.7.3"
  }
 },
 "nbformat": 4,
 "nbformat_minor": 2
}
