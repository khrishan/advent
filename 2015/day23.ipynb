{
 "metadata": {
  "language_info": {
   "codemirror_mode": {
    "name": "ipython",
    "version": 3
   },
   "file_extension": ".py",
   "mimetype": "text/x-python",
   "name": "python",
   "nbconvert_exporter": "python",
   "pygments_lexer": "ipython3",
   "version": "3.8.0-final"
  },
  "orig_nbformat": 2,
  "kernelspec": {
   "name": "python_defaultSpec_1600845859055",
   "display_name": "Python 3.8.0 64-bit"
  }
 },
 "nbformat": 4,
 "nbformat_minor": 2,
 "cells": [
  {
   "source": [
    "# --- Day 23: Opening the Turing Lock ---\n",
    "\n",
    "Little Jane Marie just got her very first computer for Christmas from some unknown benefactor. It comes with instructions and an example program, but the computer itself seems to be malfunctioning. She's curious what the program does, and would like you to help her run it.\n",
    "\n",
    "The manual explains that the computer supports two **registers** and six **instructions** (truly, it goes on to remind the reader, a state-of-the-art technology). The registers are named `a` and `b`, can hold any **non-negative integer**, and begin with a value of `0`. The instructions are as follows:\n",
    "\n",
    "+ `hlf r` sets register `r` to **half** its current value, then continues with the next instruction.\n",
    "+ `tpl r` sets register `r` to **triple** its current value, then continues with the next instruction.\n",
    "+ `inc r` **increments** register `r`, adding `1` to it, then continues with the next instruction.\n",
    "+ `jmp offset` is a **jump**; it continues with the instruction `offset` away **relative to itself**.\n",
    "+ `jie r, offset` is like `jmp`, but only jumps if register `r` is **even** (\"jump if even\").\n",
    "+ `jio r, offset` is like` jmp`, but only jumps if register `r` is `1` (\"jump if **one**\", not odd).\n",
    "\n",
    "All three jump instructions work with an **offset** relative to that instruction. The offset is always written with a prefix `+` or `-` to indicate the direction of the jump (forward or backward, respectively). For example, `jmp +1` would simply continue with the next instruction, while `jmp +0` would continuously jump back to itself forever.\n",
    "\n",
    "The program exits when it tries to run an instruction beyond the ones defined.\n",
    "\n",
    "For example, this program sets `a` to `2`, because the `jio` instruction causes it to skip the `tpl` instruction:\n",
    "\n",
    "```\n",
    "inc a\n",
    "jio a, +2\n",
    "tpl a\n",
    "inc a\n",
    "```\n",
    "\n",
    "What is the **value in register `b`** when the program in your puzzle input is finished executing?"
   ],
   "cell_type": "markdown",
   "metadata": {}
  },
  {
   "cell_type": "code",
   "execution_count": 64,
   "metadata": {
    "tags": []
   },
   "outputs": [
    {
     "output_type": "stream",
     "name": "stdout",
     "text": "184\n"
    }
   ],
   "source": [
    "from collections import namedtuple\n",
    "Instruction = namedtuple('Instruction', ['cmd', 'var', 'value'])\n",
    "\n",
    "INPUT_FILE  = 'input/day23.txt'\n",
    "\n",
    "def generateInstructions(filename):\n",
    "    instructions = []\n",
    "    with open(filename, 'r') as input_file:\n",
    "        lines = [l.strip() for l in input_file.readlines()]\n",
    "        for l in lines:\n",
    "            instruction = l.split(' ')\n",
    "            if len(instruction) == 2:\n",
    "                if instruction[0] == 'jmp':\n",
    "                    instructions.append(Instruction(instruction[0], None, int(instruction[1])))\n",
    "                else:\n",
    "                    instructions.append(Instruction(instruction[0], instruction[1].replace(',', ''), 0))\n",
    "            else:\n",
    "                instructions.append(Instruction(instruction[0], instruction[1].replace(',', ''), int(instruction[2])))\n",
    "            \n",
    "    \n",
    "    return instructions\n",
    "\n",
    "values =  {\n",
    "    'a' : 1,\n",
    "    'b' : 0\n",
    "}\n",
    "\n",
    "def calculateValues(initValues):\n",
    "\n",
    "    values = initValues\n",
    "    index = 0\n",
    "\n",
    "    while index < len(instructions):\n",
    "        if instructions[index].cmd == 'jio':\n",
    "            if values[instructions[index].var] == 1:\n",
    "                index += instructions[index].value\n",
    "            else:\n",
    "                index += 1\n",
    "        elif instructions[index].cmd == 'jie':\n",
    "            if values[instructions[index].var] % 2 == 0: #even\n",
    "                index += instructions[index].value\n",
    "            else:\n",
    "                index += 1\n",
    "        elif instructions[index].cmd == 'jmp':\n",
    "            index += instructions[index].value\n",
    "        elif instructions[index].cmd == 'inc':\n",
    "            values[instructions[index].var] += 1\n",
    "            index += 1\n",
    "        elif instructions[index].cmd == 'hlf':\n",
    "            values[instructions[index].var] = values[instructions[index].var] / 2\n",
    "            index += 1\n",
    "        elif instructions[index].cmd == 'tpl':\n",
    "            values[instructions[index].var] = values[instructions[index].var] * 3\n",
    "            index += 1\n",
    "    \n",
    "    return values\n",
    "\n",
    "instructions = generateInstructions(INPUT_FILE)\n",
    "calcValues = calculateValues({ 'a' : 0, 'b' : 0})\n",
    "print(calcValues['b'])\n",
    "\n",
    "# answers tried = b=0"
   ]
  },
  {
   "source": [
    "## --- Part Two ---\n",
    "\n",
    "The unknown benefactor is **very** thankful for releasi-- er, helping little Jane Marie with her computer. Definitely not to distract you, what is the value in register `b` after the program is finished executing if register `a` starts as `1` instead?"
   ],
   "cell_type": "markdown",
   "metadata": {}
  },
  {
   "cell_type": "code",
   "execution_count": 65,
   "metadata": {
    "tags": []
   },
   "outputs": [
    {
     "output_type": "stream",
     "name": "stdout",
     "text": "231\n"
    }
   ],
   "source": [
    "instructions = generateInstructions(INPUT_FILE)\n",
    "calcValues = calculateValues({ 'a' : 1, 'b' : 0})\n",
    "print(calcValues['b'])"
   ]
  }
 ]
}