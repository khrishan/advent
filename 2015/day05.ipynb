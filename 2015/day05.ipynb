{
 "cells": [
  {
   "cell_type": "markdown",
   "metadata": {},
   "source": [
    "# --- Day 5: Doesn't He Have Intern-Elves For This? ---\n",
    "\n",
    "Santa needs help figuring out which strings in his text file are naughty or nice.\n",
    "\n",
    "A nice string is one with all of the following properties:\n",
    "\n",
    "+ It contains at least three vowels (`aeiou` only), like `aei`, `xazegov`, or `aeiouaeiouaeiou`.\n",
    "+ It contains at least one letter that appears twice in a row, like `xx`, `abcdde` (`dd`), or `aabbccdd` (`aa`, `bb`, `cc`, or `dd`).\n",
    "+ It does not contain the strings `ab`, `cd`, `pq`, or `xy`, even if they are part of one of the other requirements.\n",
    "\n",
    "For example:\n",
    "\n",
    "+ `ugknbfddgicrmopn` is nice because it has at least three vowels (`u...i...o...`), a double letter (`...dd...`), and none of the disallowed substrings.\n",
    "+ `aaa` is nice because it has at least three vowels and a double letter, even though the letters used by different rules overlap.\n",
    "+ `jchzalrnumimnmhp` is naughty because it has no double letter.\n",
    "+ `haegwjzuvuyypxyu` is naughty because it contains the string xy.\n",
    "+ `dvszwmarrgswjxmb` is naughty because it contains only one vowel.\n",
    "\n",
    "How many strings are nice?"
   ]
  },
  {
   "cell_type": "code",
   "execution_count": 34,
   "metadata": {},
   "outputs": [
    {
     "name": "stdout",
     "output_type": "stream",
     "text": [
      "Part One : 238\n"
     ]
    }
   ],
   "source": [
    "lines = [line.strip() for line in open('input/day05.txt')]\n",
    "\n",
    "nice = 0\n",
    "\n",
    "vowels = {'a', 'e', 'i', 'o', 'u'}\n",
    "banned = {'ab', 'cd', 'pq', 'xy'}\n",
    "for l in lines:\n",
    "    # Vowel Check\n",
    "    vowel_count = len([char for char in l if char in vowels])\n",
    "    \n",
    "    if vowel_count < 3:\n",
    "        continue\n",
    "    # End of Vowel Check\n",
    "    \n",
    "    # Double 'char in a row' check\n",
    "    double_char = False\n",
    "    for i in range(0, len(l)-1):\n",
    "        double_char = l[i] == l[i+1]\n",
    "        if double_char:\n",
    "            break\n",
    "    if not double_char:\n",
    "        continue\n",
    "    # End of Double 'char in a row' check\n",
    "    \n",
    "    # Banned Words Check\n",
    "    result = False\n",
    "    for i in range(0, len(l)-1):\n",
    "        result = l[i:i+2] in banned\n",
    "        \n",
    "        if result:\n",
    "            break\n",
    "    if result:\n",
    "        continue\n",
    "    # End of Banned Words Check\n",
    "    nice += 1\n",
    "\n",
    "print('Part One : %s' % nice)\n",
    "    "
   ]
  },
  {
   "cell_type": "markdown",
   "metadata": {},
   "source": [
    "# --- Part Two ---\n",
    "\n",
    "Realizing the error of his ways, Santa has switched to a better model of determining whether a string is naughty or nice. None of the old rules apply, as they are all clearly ridiculous.\n",
    "\n",
    "Now, a nice string is one with all of the following properties:\n",
    "\n",
    "+ It contains a pair of any two letters that appears at least twice in the string without overlapping, like `xyxy` (`xy`) or `aabcdefgaa` (`aa`), but not like `aaa` (`aa`, but it overlaps).\n",
    "+ It contains at least one letter which repeats with exactly one letter between them, like `xyx`, `abcdefeghi` (`efe`), or even `aaa`.\n",
    "\n",
    "For example:\n",
    "\n",
    "+ `qjhvhtzxzqqjkmpb` is nice because is has a pair that appears twice (`qj`) and a letter that repeats with exactly one letter between them (`zxz`).\n",
    "+ `xxyxx` is nice because it has a pair that appears twice and a letter that repeats with one between, even though the letters used by each rule overlap.\n",
    "+ `uurcxstgmygtbstg` is naughty because it has a pair (`tg`) but no repeat with a single letter between them.\n",
    "+ `ieodomkazucvgmuy` is naughty because it has a repeating letter with one between (`odo`), but no pair that appears twice.\n",
    "\n",
    "How many strings are nice under these new rules?"
   ]
  },
  {
   "cell_type": "code",
   "execution_count": 65,
   "metadata": {},
   "outputs": [
    {
     "name": "stdout",
     "output_type": "stream",
     "text": [
      "Part Two : 69\n"
     ]
    }
   ],
   "source": [
    "lines = [line.strip() for line in open('input/day05.txt')]\n",
    "\n",
    "nice = 0\n",
    "\n",
    "for l in lines:\n",
    "    # Double Pair Check\n",
    "    for i in range(0, len(l)-1):\n",
    "        l_copy = l # Making a copy so we don't affect the original\n",
    "        search_char = l[i] + l[i+1]\n",
    "        \n",
    "        # Replace what we are looking for (original) with XX\n",
    "        l_copy = l[:i] + 'XX' + l[i+2:]\n",
    "        \n",
    "        d_pair = False\n",
    "        \n",
    "        if search_char in l_copy:\n",
    "            d_pair = True\n",
    "        \n",
    "        if d_pair:\n",
    "            break\n",
    "    \n",
    "    if not d_pair:\n",
    "        continue\n",
    "        \n",
    "    # End of Double Pair Check\n",
    "    \n",
    "    # Sandwich Letters Check\n",
    "    sandwich = False\n",
    "    for i in range(0, len(l) - 2):\n",
    "        sandwich = l[i] == l[i+2]\n",
    "        if sandwich:\n",
    "            break\n",
    "    \n",
    "    if not sandwich:\n",
    "        continue\n",
    "            \n",
    "    # End of Sandwich Letters Check\n",
    "\n",
    "    nice += 1\n",
    "    \n",
    "print('Part Two : %s' % nice)"
   ]
  }
 ],
 "metadata": {
  "kernelspec": {
   "display_name": "Python 3",
   "language": "python",
   "name": "python3"
  },
  "language_info": {
   "codemirror_mode": {
    "name": "ipython",
    "version": 3
   },
   "file_extension": ".py",
   "mimetype": "text/x-python",
   "name": "python",
   "nbconvert_exporter": "python",
   "pygments_lexer": "ipython3",
   "version": "3.7.3"
  }
 },
 "nbformat": 4,
 "nbformat_minor": 2
}
