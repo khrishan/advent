{
 "cells": [
  {
   "cell_type": "markdown",
   "metadata": {},
   "source": [
    "# --- Day 6: Probably a Fire Hazard ---\n",
    "\n",
    "Because your neighbors keep defeating you in the holiday house decorating contest year after year, you've decided to deploy one million lights in a `1000x1000` grid.\n",
    "\n",
    "Furthermore, because you've been especially nice this year, Santa has mailed you instructions on how to display the ideal lighting configuration.\n",
    "\n",
    "Lights in your grid are numbered from `0` to `999` in each direction; the lights at each corner are at `0,0`, `0,999`, `999,999`, and `999,0`. The instructions include whether to `turn on`, `turn off`, or `toggle` various inclusive ranges given as coordinate pairs. Each coordinate pair represents opposite corners of a rectangle, inclusive; a coordinate pair like `0,0 through 2,2` therefore refers to 9 lights in a 3x3 square. The lights all start turned off.\n",
    "\n",
    "To defeat your neighbors this year, all you have to do is set up your lights by doing the instructions Santa sent you in order.\n",
    "\n",
    "For example:\n",
    "\n",
    "+ `turn on 0,0 through 999,999` would turn on (or leave on) every light.\n",
    "+ `toggle 0,0 through 999,0` would toggle the first line of 1000 lights, turning off the ones that were on, and turning on the ones that were off.\n",
    "+ `turn off 499,499 through 500,500` would turn off (or leave off) the middle four lights.\n",
    "\n",
    "After following the instructions, **how many lights are lit**?"
   ]
  },
  {
   "cell_type": "code",
   "execution_count": 1,
   "metadata": {},
   "outputs": [
    {
     "name": "stdout",
     "output_type": "stream",
     "text": [
      "400410.0\n"
     ]
    }
   ],
   "source": [
    "import numpy as np\n",
    "import re\n",
    "\n",
    "lines = [line.strip() for line in open('input/day06.txt')]\n",
    "\n",
    "def parse_cmd(cmd_string):\n",
    "    regex = '([\\w ]+) ([0-9]+,[0-9]+) through ([0-9]+,[0-9]+)'\n",
    "    \n",
    "    matches = re.findall(regex, cmd_string)\n",
    "    \n",
    "    cmd = {}\n",
    "    cmd['instruction'] = matches[0][0]\n",
    "    cmd['start'] = process_coords(matches[0][1])\n",
    "    cmd['end'] = process_coords(matches[0][2])\n",
    "    \n",
    "    return cmd\n",
    "\n",
    "def process_coords(coords):\n",
    "    nums = coords.split(',')\n",
    "    coords = (int(nums[0]), int(nums[1]))\n",
    "    \n",
    "    return coords\n",
    "\n",
    "def process_cmd(cmd, grid):\n",
    "    if cmd['instruction'] == 'turn on':\n",
    "        for x in range(cmd['start'][0], cmd['end'][0] + 1):\n",
    "            for y in range(cmd['start'][1], cmd['end'][1] + 1):\n",
    "                grid[x, y] = 1\n",
    "        return grid\n",
    "    elif cmd['instruction'] == 'turn off':\n",
    "        for x in range(cmd['start'][0], cmd['end'][0] + 1):\n",
    "            for y in range(cmd['start'][1], cmd['end'][1] + 1):\n",
    "                grid[x, y] = 0\n",
    "        return grid\n",
    "        pass\n",
    "    elif cmd['instruction'] == 'toggle':\n",
    "        for x in range(cmd['start'][0], cmd['end'][0] + 1):\n",
    "            for y in range(cmd['start'][1], cmd['end'][1] + 1):\n",
    "                if grid[x, y]:\n",
    "                    grid[x, y] = 0\n",
    "                else:\n",
    "                    grid[x, y] = 1\n",
    "        return grid\n",
    "\n",
    " \n",
    "    \n",
    "grid = np.zeros((1000,1000))\n",
    "\n",
    "for line in lines:\n",
    "    grid = process_cmd(parse_cmd(line), grid)\n",
    "\n",
    "print(np.sum(grid))"
   ]
  },
  {
   "cell_type": "markdown",
   "metadata": {},
   "source": [
    "# --- Part Two ---\n",
    "You just finish implementing your winning light pattern when you realize you mistranslated Santa's message from Ancient Nordic Elvish.\n",
    "\n",
    "The light grid you bought actually has individual brightness controls; each light can have a brightness of zero or more. The lights all start at zero.\n",
    "\n",
    "The phrase `turn on` actually means that you should increase the brightness of those lights by `1`.\n",
    "\n",
    "The phrase `turn off` actually means that you should decrease the brightness of those lights by `1`, to a minimum of zero.\n",
    "\n",
    "The phrase `toggle` actually means that you should increase the brightness of those lights by `2`.\n",
    "\n",
    "What is the **total brightness** of all lights combined after following Santa's instructions?\n",
    "\n",
    "For example:\n",
    "\n",
    "+ `turn on 0,0 through 0,0` would increase the total brightness by `1`.\n",
    "+ `toggle 0,0 through 999,999` would increase the total brightness by `2000000`."
   ]
  },
  {
   "cell_type": "code",
   "execution_count": 3,
   "metadata": {},
   "outputs": [
    {
     "name": "stdout",
     "output_type": "stream",
     "text": [
      "15343601.0\n"
     ]
    }
   ],
   "source": [
    "# Change process_cmd to reflect the new rules.\n",
    "\n",
    "def process_cmd(cmd, grid):\n",
    "    if cmd['instruction'] == 'turn on':\n",
    "        for x in range(cmd['start'][0], cmd['end'][0] + 1):\n",
    "            for y in range(cmd['start'][1], cmd['end'][1] + 1):\n",
    "                grid[x, y] += 1\n",
    "        return grid\n",
    "    elif cmd['instruction'] == 'turn off':\n",
    "        for x in range(cmd['start'][0], cmd['end'][0] + 1):\n",
    "            for y in range(cmd['start'][1], cmd['end'][1] + 1):\n",
    "                if grid[x, y] != 0:\n",
    "                    grid[x, y] -= 1\n",
    "        return grid\n",
    "        pass\n",
    "    elif cmd['instruction'] == 'toggle':\n",
    "        for x in range(cmd['start'][0], cmd['end'][0] + 1):\n",
    "            for y in range(cmd['start'][1], cmd['end'][1] + 1):\n",
    "                grid[x, y] += 2\n",
    "        return grid\n",
    "    \n",
    "grid = np.zeros((1000,1000))\n",
    "\n",
    "for line in lines:\n",
    "    grid = process_cmd(parse_cmd(line), grid)\n",
    "\n",
    "print(np.sum(grid))"
   ]
  }
 ],
 "metadata": {
  "kernelspec": {
   "display_name": "Python 3",
   "language": "python",
   "name": "python3"
  },
  "language_info": {
   "codemirror_mode": {
    "name": "ipython",
    "version": 3
   },
   "file_extension": ".py",
   "mimetype": "text/x-python",
   "name": "python",
   "nbconvert_exporter": "python",
   "pygments_lexer": "ipython3",
   "version": "3.7.3"
  }
 },
 "nbformat": 4,
 "nbformat_minor": 2
}
