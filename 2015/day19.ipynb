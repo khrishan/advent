{
 "metadata": {
  "language_info": {
   "codemirror_mode": {
    "name": "ipython",
    "version": 3
   },
   "file_extension": ".py",
   "mimetype": "text/x-python",
   "name": "python",
   "nbconvert_exporter": "python",
   "pygments_lexer": "ipython3",
   "version": "3.8.0-final"
  },
  "orig_nbformat": 2,
  "kernelspec": {
   "name": "python_defaultSpec_1599661005210",
   "display_name": "Python 3.8.0 64-bit"
  }
 },
 "nbformat": 4,
 "nbformat_minor": 2,
 "cells": [
  {
   "cell_type": "markdown",
   "metadata": {},
   "source": [
    "# --- Day 19: Medicine for Rudolph ---\n",
    "\n",
    "Rudolph the Red-Nosed Reindeer is sick! His nose isn't shining very brightly, and he needs medicine.\n",
    "\n",
    "Red-Nosed Reindeer biology isn't similar to regular reindeer biology; Rudolph is going to need custom-made medicine. Unfortunately, Red-Nosed Reindeer chemistry isn't similar to regular reindeer chemistry, either.\n",
    "\n",
    "The North Pole is equipped with a Red-Nosed Reindeer nuclear fusion/fission plant, capable of constructing any Red-Nosed Reindeer molecule you need. It works by starting with some input molecule and then doing a series of **replacements**, one per step, until it has the right molecule.\n",
    "\n",
    "However, the machine has to be calibrated before it can be used. Calibration involves determining the number of molecules that can be generated in one step from a given starting point.\n",
    "\n",
    "For example, imagine a simpler machine that supports only the following replacements:\n",
    "\n",
    "```\n",
    "H => HO\n",
    "H => OH\n",
    "O => HH\n",
    "```\n",
    "\n",
    "Given the replacements above and starting with `HOH`, the following molecules could be generated:\n",
    "\n",
    "+ `HOOH` (via `H => HO` on the first `H`).\n",
    "+ `HOHO` (via `H => HO` on the second `H`).\n",
    "+ `OHOH` (via `H => OH` on the first `H`).\n",
    "+ `HOOH` (via `H => OH` on the second `H`).\n",
    "+ `HHHH` (via `O => HH`).\n",
    "\n",
    "So, in the example above, there are `4` **distinct** molecules (not five, because `HOOH` appears twice) after one replacement from `HOH`. Santa's favorite molecule, `HOHOHO`, can become `7` **distinct** molecules (over nine replacements: six from `H`, and three from `O`).\n",
    "\n",
    "The machine replaces without regard for the surrounding characters. For example, given the string `H2O`, the transition `H => OO` would result in `OO2O`.\n",
    "\n",
    "Your puzzle input describes all of the possible replacements and, at the bottom, the medicine molecule for which you need to calibrate the machine. **How many distinct molecules can be created** after all the different ways you can do one replacement on the medicine molecule?"
   ]
  },
  {
   "cell_type": "code",
   "execution_count": 59,
   "metadata": {
    "tags": []
   },
   "outputs": [
    {
     "output_type": "execute_result",
     "data": {
      "text/plain": "509"
     },
     "metadata": {},
     "execution_count": 59
    }
   ],
   "source": [
    "import re\n",
    "\n",
    "# Setup data\n",
    "lines = [line.strip() for line in open('input/day19.txt') if line != '\\n']\n",
    "puzzle_input = lines.pop()\n",
    "\n",
    "rules = [line.split(' => ') for line in lines]\n",
    "\n",
    "rules = []\n",
    "for i in lines:\n",
    "    m = re.findall(r'(\\S+) => (\\S+)', i)\n",
    "    rules.append(m[0])\n",
    "\n",
    "molecules = set()\n",
    "\n",
    "for i, j in rules:\n",
    "    for k in range(len(puzzle_input)):\n",
    "        if puzzle_input[k:k+len(i)] == i:\n",
    "            y = puzzle_input[:k] + j + puzzle_input[k+len(i):]\n",
    "            molecules.add(y)\n",
    "\n",
    "len(molecules)"
   ]
  },
  {
   "cell_type": "markdown",
   "metadata": {},
   "source": [
    "## --- Part Two ---\n",
    "\n",
    "Now that the machine is calibrated, you're ready to begin molecule fabrication.\n",
    "\n",
    "Molecule fabrication always begins with just a single electron, `e`, and applying replacements one at a time, just like the ones during calibration.\n",
    "\n",
    "For example, suppose you have the following replacements:\n",
    "\n",
    "```\n",
    "e => H\n",
    "e => O\n",
    "H => HO\n",
    "H => OH\n",
    "O => HH\n",
    "```\n",
    "\n",
    "If you'd like to make `HOH`, you start with `e`, and then make the following replacements:\n",
    "\n",
    "+ `e => O` to get `O`\n",
    "+ `O => HH` to get `HH`\n",
    "+ `H => OH` (on the second `H`) to get `HOH`\n",
    "\n",
    "So, you could make `HOH` after `3` **steps**. Santa's favorite molecule, `HOHOHO`, can be made in **`6` steps**.\n",
    "\n",
    "How long will it take to make the medicine? Given the available **replacements** and the **medicine molecule** in your puzzle input, what is the **fewest number** of steps to go from e to the medicine molecule?"
   ]
  },
  {
   "cell_type": "code",
   "execution_count": 60,
   "metadata": {
    "tags": []
   },
   "outputs": [
    {
     "output_type": "stream",
     "name": "stdout",
     "text": "Problem 2: 195\n"
    }
   ],
   "source": [
    "# Reference : https://www.reddit.com/r/adventofcode/comments/3xflz8/day_19_solutions/\n",
    "\n",
    "import random\n",
    "\n",
    "def backtrack(s, rep):\n",
    "    count = 0\n",
    "    old_s = ''\n",
    "    keys = list(rep.keys())\n",
    "    random.shuffle(keys)\n",
    "    while old_s != s:\n",
    "        old_s = s\n",
    "        for key in keys:\n",
    "            while key in s:\n",
    "                count += s.count(key)\n",
    "                s = s.replace(key, rep[key])\n",
    "    return int(s == 'e') * count\n",
    "\n",
    "rep = {}\n",
    "inv_rep = {}\n",
    "s = ''\n",
    "\n",
    "with open('input/day19.txt') as f:\n",
    "    for line in f.readlines():\n",
    "        if '=>' in line:\n",
    "            key, val = line.rstrip().split(' => ')\n",
    "            inv_rep[val] = key\n",
    "            if key not in rep:\n",
    "                rep[key] = []\n",
    "            rep[key].append(val)                \n",
    "        else:\n",
    "            s = line.rstrip()\n",
    "\n",
    "p2 = 0\n",
    "while p2 == 0:\n",
    "    p2 = backtrack(s, inv_rep)\n",
    "print(\"Problem 2: %d\"%p2)"
   ]
  }
 ]
}