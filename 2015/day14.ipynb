{
 "cells": [
  {
   "cell_type": "markdown",
   "metadata": {},
   "source": [
    "## --- Day 14: Reindeer Olympics ---\n",
    "\n",
    "This year is the Reindeer Olympics! Reindeer can fly at high speeds, but must rest occasionally to recover their energy. Santa would like to know which of his reindeer is fastest, and so he has them race.\n",
    "\n",
    "Reindeer can only either be **flying** (always at their top speed) or **resting** (not moving at all), and always spend whole seconds in either state.\n",
    "\n",
    "For example, suppose you have the following Reindeer:\n",
    "\n",
    "+ Comet can fly `14 km/s for 10 seconds`, but then must rest for `127 seconds`.\n",
    "+ Dancer can fly `16 km/s for 11 seconds`, but then must rest for `162 seconds`.\n",
    "\n",
    "After one second, Comet has gone 14 km, while Dancer has gone 16 km. After ten seconds, Comet has gone 140 km, while Dancer has gone 160 km. On the eleventh second, Comet begins resting (staying at 140 km), and Dancer continues on for a total distance of 176 km. On the 12th second, both reindeer are resting. They continue to rest until the 138th second, when Comet flies for another ten seconds. On the 174th second, Dancer flies for another 11 seconds.\n",
    "\n",
    "In this example, after the 1000th second, both reindeer are resting, and Comet is in the lead at **`1120`** km (poor Dancer has only gotten `1056` km by that point). So, in this situation, Comet would win (if the race ended at 1000 seconds).\n",
    "\n",
    "Given the descriptions of each reindeer (in your puzzle input), after exactly `2503` seconds, **what distance has the winning reindeer traveled**?"
   ]
  },
  {
   "cell_type": "code",
   "execution_count": 4,
   "metadata": {},
   "outputs": [
    {
     "name": "stdout",
     "output_type": "stream",
     "text": [
      "Highest : Donner = 2655\n"
     ]
    }
   ],
   "source": [
    "import re\n",
    "\n",
    "def get_data(filename):\n",
    "    lines = [line.strip() for line in open(filename)]\n",
    "\n",
    "    pattern = re.compile(\"([A-Za-z]+) can fly ([0-9]+) km\\/s for ([0-9]+) seconds, but then must rest for ([0-9]+) seconds\\.\") # format of the input text\n",
    "\n",
    "    flock = {}\n",
    "\n",
    "    for l in lines:\n",
    "        m = re.match(pattern, l)\n",
    "        if m:\n",
    "            reindeer = m.group(1)\n",
    "            speed = m.group(2)\n",
    "            duration = m.group(3)\n",
    "            rest = m.group(4)\n",
    "\n",
    "            flock[reindeer] = { 'speed' : int(speed),\n",
    "                                     'duration': int(duration),\n",
    "                                     'rest' : int(rest)\n",
    "                                    }\n",
    "    return flock\n",
    "\n",
    "def get_distances(data):\n",
    "    distances = {}\n",
    "\n",
    "    for d in data:\n",
    "        distance_covered = 0\n",
    "        time = 2503\n",
    "\n",
    "        while time > 0:\n",
    "            if time < data[d]['duration']:\n",
    "                distance_covered += data[d]['speed'] * time\n",
    "            else:\n",
    "                distance_covered += data[d]['speed'] * data[d]['duration']\n",
    "            \n",
    "            time -= data[d]['duration']\n",
    "            time -= data[d]['rest']\n",
    "        \n",
    "        distances[d] = distance_covered\n",
    "\n",
    "    return distances\n",
    "\n",
    "def get_highest(distances):\n",
    "    highest = ('x', -1)\n",
    "\n",
    "    for d in distances:\n",
    "        if distances[d] > highest[1]:\n",
    "            highest = (d, distances[d])\n",
    "    \n",
    "    return highest\n",
    "\n",
    "data = get_data('input/day14.txt')\n",
    "distances = get_distances(data)\n",
    "\n",
    "highest = get_highest(distances)\n",
    "print('Highest : {} = {}'.format(highest[0], highest[1]))"
   ]
  },
  {
   "cell_type": "markdown",
   "metadata": {},
   "source": [
    "## --- Part Two ---\n",
    "\n",
    "Seeing how reindeer move in bursts, Santa decides he's not pleased with the old scoring system.\n",
    "\n",
    "Instead, at the end of each second, he awards one point to the reindeer currently in the lead. (If there are multiple reindeer tied for the lead, they each get one point.) He keeps the traditional 2503 second time limit, of course, as doing otherwise would be entirely ridiculous.\n",
    "\n",
    "Given the example reindeer from above, after the first second, Dancer is in the lead and gets one point. He stays in the lead until several seconds into Comet's second burst: after the 140th second, Comet pulls into the lead and gets his first point. Of course, since Dancer had been in the lead for the 139 seconds before that, he has accumulated 139 points by the 140th second.\n",
    "\n",
    "After the 1000th second, Dancer has accumulated `689` points, while poor Comet, our old champion, only has `312`. So, with the new scoring system, Dancer would win (if the race ended at 1000 seconds).\n",
    "\n",
    "Again given the descriptions of each reindeer (in your puzzle input), after exactly `2503` seconds, **how many points does the winning reindeer have?**"
   ]
  },
  {
   "cell_type": "code",
   "execution_count": 5,
   "metadata": {},
   "outputs": [
    {
     "name": "stdout",
     "output_type": "stream",
     "text": [
      "Winning Reindeer is Vixen with 1059 points\n"
     ]
    }
   ],
   "source": [
    "def get_distances(data, deer, time):\n",
    "    distance_covered = 0\n",
    "\n",
    "    while time > 0:\n",
    "        if time < data[deer]['duration']:\n",
    "            distance_covered += data[deer]['speed'] * time\n",
    "        else:\n",
    "            distance_covered += data[deer]['speed'] * data[deer]['duration']\n",
    "        \n",
    "        time -= data[deer]['duration']\n",
    "        time -= data[deer]['rest']\n",
    "        \n",
    "    return distance_covered\n",
    "\n",
    "# TO DO : Doesn't handle if two reindeer have the same amount of points\n",
    "def get_points(data, time):\n",
    "    points = { d : 0 for d in data}\n",
    "\n",
    "    for i in range(1, time + 1):\n",
    "        distances = {}\n",
    "        for d in data:\n",
    "            distances[d] = get_distances(data, d, i)\n",
    "        time -= 1\n",
    "        winning_deer = max(distances, key=distances.get)\n",
    "        points[winning_deer] += 1\n",
    "    \n",
    "    return points\n",
    "\n",
    "data = get_data('input/day14.txt')\n",
    "\n",
    "points = get_points(data, 2503)\n",
    "winning_deer = max(points, key=points.get)\n",
    "\n",
    "print('Winning Reindeer is {} with {} points'.format(winning_deer, points[winning_deer]))"
   ]
  }
 ],
 "metadata": {
  "kernelspec": {
   "display_name": "Python 3",
   "language": "python",
   "name": "python3"
  },
  "language_info": {
   "codemirror_mode": {
    "name": "ipython",
    "version": 3
   },
   "file_extension": ".py",
   "mimetype": "text/x-python",
   "name": "python",
   "nbconvert_exporter": "python",
   "pygments_lexer": "ipython3",
   "version": "3.7.3"
  }
 },
 "nbformat": 4,
 "nbformat_minor": 2
}
