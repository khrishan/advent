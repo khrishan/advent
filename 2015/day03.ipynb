{
 "cells": [
  {
   "cell_type": "markdown",
   "metadata": {},
   "source": [
    "# --- Day 3: Perfectly Spherical Houses in a Vacuum ---\n",
    "\n",
    "Santa is delivering presents to an infinite two-dimensional grid of houses.\n",
    "\n",
    "He begins by delivering a present to the house at his starting location, and then an elf at the North Pole calls him via radio and tells him where to move next. Moves are always exactly one house to the north (`^`), south (`v`), east (`>`), or west (`<`). After each move, he delivers another present to the house at his new location.\n",
    "\n",
    "However, the elf back at the north pole has had a little too much eggnog, and so his directions are a little off, and Santa ends up visiting some houses more than once. How many houses receive at least one present?\n",
    "\n",
    "For example:\n",
    "\n",
    "+ `>` delivers presents to 2 houses: one at the starting location, and one to the east.\n",
    "+ `^>v<` delivers presents to 4 houses in a square, including twice to the house at his starting/ending location.\n",
    "+ `^v^v^v^v^v` delivers a bunch of presents to some very lucky children at only 2 houses."
   ]
  },
  {
   "cell_type": "code",
   "execution_count": 11,
   "metadata": {},
   "outputs": [
    {
     "name": "stdout",
     "output_type": "stream",
     "text": [
      "Part One : 2565\n"
     ]
    }
   ],
   "source": [
    "with open('input/day03.txt') as f:\n",
    "    data = f.read()\n",
    "\n",
    "visited = [[0,0]] # Add starting point as a place already visited\n",
    "\n",
    "x = 0\n",
    "y = 0\n",
    "\n",
    "for c in data:\n",
    "    if c == '^':   # North\n",
    "        y += 1\n",
    "    elif c == '>': # East\n",
    "        x += 1\n",
    "    elif c == 'v': # South\n",
    "        y = y - 1\n",
    "    elif c == '<': # West\n",
    "        x = x - 1\n",
    "\n",
    "    if [x,y] not in visited:\n",
    "        visited.append([x,y])\n",
    "        \n",
    "print('Part One : %s' % len(visited))"
   ]
  },
  {
   "cell_type": "markdown",
   "metadata": {},
   "source": [
    "# --- Part Two ---\n",
    "\n",
    "The next year, to speed up the process, Santa creates a robot version of himself, Robo-Santa, to deliver presents with him.\n",
    "\n",
    "Santa and Robo-Santa start at the same location (delivering two presents to the same starting house), then take turns moving based on instructions from the elf, who is eggnoggedly reading from the same script as the previous year.\n",
    "\n",
    "This year, how many houses receive at least one present?\n",
    "\n",
    "For example:\n",
    "\n",
    "+ `^v` delivers presents to 3 houses, because Santa goes north, and then Robo-Santa goes south.\n",
    "+ `^>v<` now delivers presents to 3 houses, and Santa and Robo-Santa end up back where they started.\n",
    "+ `^v^v^v^v^v` now delivers presents to 11 houses, with Santa going one direction and Robo-Santa going the other."
   ]
  },
  {
   "cell_type": "code",
   "execution_count": 28,
   "metadata": {},
   "outputs": [],
   "source": [
    "def get_coords(x, y, d):\n",
    "    if d == '^':   # North\n",
    "        y += 1\n",
    "    elif d == '>': # East\n",
    "        x += 1\n",
    "    elif d == 'v': # South\n",
    "        y = y - 1\n",
    "    elif d == '<': # West\n",
    "        x = x - 1\n",
    "        \n",
    "    return [x,y]\n",
    "        "
   ]
  },
  {
   "cell_type": "code",
   "execution_count": 36,
   "metadata": {},
   "outputs": [
    {
     "name": "stdout",
     "output_type": "stream",
     "text": [
      "Part Two : 2639\n"
     ]
    }
   ],
   "source": [
    "with open('input/day03.txt') as f:\n",
    "    data = f.read()\n",
    "\n",
    "santa = [0,0]\n",
    "robot = [0,0]\n",
    "\n",
    "visited = [[0,0]]\n",
    "\n",
    "for i, c in enumerate(data):\n",
    "    if i % 2 == 0: # If even\n",
    "        santa = new_coords = get_coords(santa[0], santa[1], c)\n",
    "    else:\n",
    "        robot = new_coords = get_coords(robot[0], robot[1], c)\n",
    "        \n",
    "    if new_coords not in visited:\n",
    "        visited.append(new_coords)\n",
    "\n",
    "print('Part Two : %s' % len(visited))        "
   ]
  }
 ],
 "metadata": {
  "kernelspec": {
   "display_name": "Python 3",
   "language": "python",
   "name": "python3"
  },
  "language_info": {
   "codemirror_mode": {
    "name": "ipython",
    "version": 3
   },
   "file_extension": ".py",
   "mimetype": "text/x-python",
   "name": "python",
   "nbconvert_exporter": "python",
   "pygments_lexer": "ipython3",
   "version": "3.6.3"
  }
 },
 "nbformat": 4,
 "nbformat_minor": 2
}
