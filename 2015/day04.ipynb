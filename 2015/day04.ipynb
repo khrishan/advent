{
 "cells": [
  {
   "cell_type": "markdown",
   "metadata": {},
   "source": [
    "# --- Day 4: The Ideal Stocking Stuffer ---\n",
    "\n",
    "Santa needs help mining some AdventCoins (very similar to bitcoins) to use as gifts for all the economically forward-thinking little girls and boys.\n",
    "\n",
    "To do this, he needs to find MD5 hashes which, in hexadecimal, start with at least five zeroes. The input to the MD5 hash is some secret key (your puzzle input, given below) followed by a number in decimal. To mine AdventCoins, you must find Santa the lowest positive number (no leading zeroes: 1, 2, 3, ...) that produces such a hash.\n",
    "\n",
    "For example:\n",
    "\n",
    "+ If your secret key is `abcdef`, the answer is `609043`, because the MD5 hash of `abcdef609043` starts with five zeroes (`000001dbbfa...`), and it is the lowest such number to do so.\n",
    "+ If your secret key is `pqrstuv`, the lowest number it combines with to make an MD5 hash starting with five zeroes is `1048970`; that is, the MD5 hash of `pqrstuv1048970` looks like `000006136ef....`"
   ]
  },
  {
   "cell_type": "code",
   "execution_count": 14,
   "metadata": {},
   "outputs": [
    {
     "name": "stdout",
     "output_type": "stream",
     "text": [
      "Part One : 254575\n"
     ]
    }
   ],
   "source": [
    "import hashlib\n",
    "\n",
    "with open('input/day04.txt') as f:\n",
    "    key  = f.read()\n",
    "\n",
    "index = -1\n",
    "answer_found = False\n",
    "\n",
    "while not answer_found:\n",
    "    index += 1\n",
    "    ival = '%s%s' % (key, index)\n",
    "    md5_hash = hashlib.md5(ival.encode('utf-8')).hexdigest()\n",
    "        \n",
    "    answer_found = md5_hash[0:5] == '00000'\n",
    "\n",
    "print('Part One : %s' % index)"
   ]
  },
  {
   "cell_type": "markdown",
   "metadata": {},
   "source": [
    "# --- Part Two ---\n",
    "\n",
    "Now find one that starts with six zeroes."
   ]
  },
  {
   "cell_type": "code",
   "execution_count": 16,
   "metadata": {},
   "outputs": [
    {
     "name": "stdout",
     "output_type": "stream",
     "text": [
      "Part Two : 1038736\n"
     ]
    }
   ],
   "source": [
    "import hashlib\n",
    "\n",
    "with open('input/day04.txt') as f:\n",
    "    key  = f.read()\n",
    "\n",
    "index = -1\n",
    "answer_found = False\n",
    "\n",
    "while not answer_found:\n",
    "    index += 1\n",
    "    ival = '%s%s' % (key, index)\n",
    "    md5_hash = hashlib.md5(ival.encode('utf-8')).hexdigest()\n",
    "        \n",
    "    answer_found = md5_hash[0:6] == '000000'\n",
    "\n",
    "print('Part Two : %s' % index)"
   ]
  }
 ],
 "metadata": {
  "kernelspec": {
   "display_name": "Python 3",
   "language": "python",
   "name": "python3"
  },
  "language_info": {
   "codemirror_mode": {
    "name": "ipython",
    "version": 3
   },
   "file_extension": ".py",
   "mimetype": "text/x-python",
   "name": "python",
   "nbconvert_exporter": "python",
   "pygments_lexer": "ipython3",
   "version": "3.6.3"
  }
 },
 "nbformat": 4,
 "nbformat_minor": 2
}
