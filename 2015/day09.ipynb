{
 "cells": [
  {
   "cell_type": "markdown",
   "metadata": {},
   "source": [
    "## --- Day 9: All in a Single Night ---\n",
    "\n",
    "Every year, Santa manages to deliver all of his presents in a single night.\n",
    "\n",
    "This year, however, he has some new locations to visit; his elves have provided him the distances between every pair of locations. He can start and end at any two (different) locations he wants, but he must visit each location exactly once. What is the **shortest distance** he can travel to achieve this?\n",
    "\n",
    "For example, given the following distances:\n",
    "\n",
    "```\n",
    "London to Dublin = 464\n",
    "London to Belfast = 518\n",
    "Dublin to Belfast = 141\n",
    "```\n",
    "\n",
    "The possible routes are therefore:\n",
    "\n",
    "```\n",
    "Dublin -> London -> Belfast = 982\n",
    "London -> Dublin -> Belfast = 605\n",
    "London -> Belfast -> Dublin = 659\n",
    "Dublin -> Belfast -> London = 659\n",
    "Belfast -> Dublin -> London = 605\n",
    "Belfast -> London -> Dublin = 982\n",
    "```\n",
    "\n",
    "The shortest of these is `London -> Dublin -> Belfast = 605`, and so the answer is `605` in this example.\n",
    "\n",
    "What is the distance of the shortest route?"
   ]
  },
  {
   "cell_type": "code",
   "execution_count": 18,
   "metadata": {},
   "outputs": [
    {
     "name": "stdout",
     "output_type": "stream",
     "text": [
      "Shortest : ('Straylight', 'Tambi', 'Norrath', 'AlphaCentauri', 'Arbre', 'Snowdin', 'Faerun', 'Tristram') = 141\n"
     ]
    }
   ],
   "source": [
    "import itertools\n",
    "import re\n",
    "\n",
    "def get_information(lines):\n",
    "    locations = set()\n",
    "    distances = {}\n",
    "    pattern = re.compile(\"([A-Za-z]+) to ([A-Za-z]+) = ([0-9]+)\") # format of the input text\n",
    "    \n",
    "    for l in lines:\n",
    "        m = re.match(pattern, l)\n",
    "        if m:\n",
    "            # group(1) & group(2) have locations group(3) has distance\n",
    "            locations.add(m.group(1))\n",
    "            locations.add(m.group(2))\n",
    "\n",
    "            key = (m.group(1), m.group(2))\n",
    "            distances[key] = int(m.group(3))\n",
    "    \n",
    "    return locations, distances\n",
    "\n",
    "# defaults_to_the_shortest\n",
    "def get_journey(locations, distances, shortest=True):\n",
    "    perm = itertools.permutations(locations) # returns an iterator\n",
    "\n",
    "    overall_distance = -1\n",
    "    path = ''\n",
    "\n",
    "    for p in perm:\n",
    "        distance = 0\n",
    "        for i in range(len(p)):\n",
    "            try:\n",
    "                key1 = (p[i], p[i + 1])\n",
    "                key2 = (p[i + 1], p[i])\n",
    "\n",
    "                if key1 in distances:\n",
    "                    distance += distances[key1]\n",
    "                else:\n",
    "                    distance += distances[key2]\n",
    "            except:\n",
    "                continue\n",
    "    \n",
    "        if shortest:\n",
    "            if overall_distance == -1 or distance < overall_distance:\n",
    "                path = p\n",
    "                overall_distance = distance  \n",
    "        else:\n",
    "            if overall_distance == -1 or distance > overall_distance:\n",
    "                path = p\n",
    "                overall_distance = distance\n",
    "            \n",
    "    return p, overall_distance\n",
    "\n",
    "lines = [line.strip() for line in open('input/day09.txt')]\n",
    "locations, distances = get_information(lines)\n",
    "\n",
    "path, journey = get_journey(locations, distances)\n",
    "print('Shortest : {} = {}'.format(path, journey))"
   ]
  },
  {
   "cell_type": "markdown",
   "metadata": {},
   "source": [
    "## --- Part Two ---\n",
    "\n",
    "The next year, just to show off, Santa decides to take the route with the **longest distance** instead.\n",
    "\n",
    "He can still start and end at any two (different) locations he wants, and he still must visit each location exactly once.\n",
    "\n",
    "For example, given the distances above, the longest route would be `982` via (for example) `Dublin -> London -> Belfast`.\n",
    "\n",
    "What is the distance of the **longest route**?"
   ]
  },
  {
   "cell_type": "code",
   "execution_count": 16,
   "metadata": {},
   "outputs": [
    {
     "name": "stdout",
     "output_type": "stream",
     "text": [
      "Longest : ('Straylight', 'Tambi', 'Norrath', 'AlphaCentauri', 'Arbre', 'Snowdin', 'Faerun', 'Tristram') = 736\n"
     ]
    }
   ],
   "source": [
    "lines = [line.strip() for line in open('input/day09.txt')]\n",
    "locations, distances = get_information(lines)\n",
    "\n",
    "path, journey = get_journey(locations, distances, shortest=False)\n",
    "print('Longest : {} = {}'.format(path, journey))"
   ]
  }
 ],
 "metadata": {
  "kernelspec": {
   "display_name": "Python 3",
   "language": "python",
   "name": "python3"
  },
  "language_info": {
   "codemirror_mode": {
    "name": "ipython",
    "version": 3
   },
   "file_extension": ".py",
   "mimetype": "text/x-python",
   "name": "python",
   "nbconvert_exporter": "python",
   "pygments_lexer": "ipython3",
   "version": "3.6.3"
  }
 },
 "nbformat": 4,
 "nbformat_minor": 2
}
