{
 "cells": [
  {
   "cell_type": "markdown",
   "metadata": {},
   "source": [
    "## --- Day 2: I Was Told There Would Be No Math ---\n",
    "\n",
    "The elves are running low on wrapping paper, and so they need to submit an order for more. They have a list of the dimensions (length l, width w, and height h) of each present, and only want to order exactly as much as they need.\n",
    "\n",
    "### Part One\n",
    "\n",
    "Fortunately, every present is a box (a perfect right rectangular prism), which makes calculating the required wrapping paper for each gift a little easier: find the surface area of the box, which is 2*l*w + 2*w*h + 2*h*l. The elves also need a little extra paper for each present: the area of the smallest side.\n",
    "\n",
    "For example:\n",
    "\n",
    "+ A present with dimensions 2x3x4 requires 2*6 + 2*12 + 2*8 = 52 square feet of wrapping paper plus 6 square feet of slack, for a total of 58 square feet.\n",
    "+ A present with dimensions 1x1x10 requires 2*1 + 2*10 + 2*10 = 42 square feet of wrapping paper plus 1 square foot of slack, for a total of 43 square feet.\n",
    "\n",
    "All numbers in the elves' list are in feet. How many total square feet of wrapping paper should they order?"
   ]
  },
  {
   "cell_type": "code",
   "execution_count": 12,
   "metadata": {},
   "outputs": [
    {
     "name": "stdout",
     "output_type": "stream",
     "text": [
      "Part One : 1606483\n"
     ]
    }
   ],
   "source": [
    "result = 0\n",
    "# l x w x h\n",
    "lines = [line.strip() for line in open('input/day02.txt')]\n",
    "\n",
    "for line in lines:\n",
    "    nums = line.split('x')\n",
    "    \n",
    "    smallest = 99999999999\n",
    "    \n",
    "    areas = [(int(nums[0]) * int(nums[1])), (int(nums[1]) * int(nums[2])), (int(nums[0]) * int(nums[2]))]\n",
    "    for num in areas:\n",
    "        if num < smallest:\n",
    "            smallest = num\n",
    "            \n",
    "    result += (2 * int(nums[0]) * int(nums[1])) + (2 * int(nums[1]) * int(nums[2])) + (2 * int(nums[0]) * int(nums[2])) + smallest\n",
    "\n",
    "\n",
    "print('Part One : %s' % result)"
   ]
  },
  {
   "cell_type": "markdown",
   "metadata": {},
   "source": [
    "### --- Part Two ---\n",
    "\n",
    "The elves are also running low on ribbon. Ribbon is all the same width, so they only have to worry about the length they need to order, which they would again like to be exact.\n",
    "\n",
    "The ribbon required to wrap a present is the shortest distance around its sides, or the smallest perimeter of any one face. Each present also requires a bow made out of ribbon as well; the feet of ribbon required for the perfect bow is equal to the cubic feet of volume of the present. Don't ask how they tie the bow, though; they'll never tell.\n",
    "\n",
    "For example:\n",
    "\n",
    "+ A present with dimensions 2x3x4 requires 2+2+3+3 = 10 feet of ribbon to wrap the present plus 2\\*3\\*4 = 24 feet of ribbon for the bow, for a total of 34 feet.\n",
    "+ A present with dimensions 1x1x10 requires 1+1+1+1 = 4 feet of ribbon to wrap the present plus 1\\*1\\*10 = 10 feet of ribbon for the bow, for a total of 14 feet.\n",
    "\n",
    "How many total feet of ribbon should they order?"
   ]
  },
  {
   "cell_type": "code",
   "execution_count": 14,
   "metadata": {},
   "outputs": [
    {
     "name": "stdout",
     "output_type": "stream",
     "text": [
      "Part Two : 3842356\n"
     ]
    }
   ],
   "source": [
    "result = 0\n",
    "# l x w x h\n",
    "lines = [line.strip() for line in open('input/day02.txt')]\n",
    "\n",
    "for line in lines:\n",
    "    nums = line.split('x')\n",
    "    \n",
    "    result += int(nums[0]) * int(nums[1]) * int(nums[2])\n",
    "    \n",
    "    largest = -1\n",
    "    index = -1\n",
    "    for num in nums:\n",
    "        if int(num) > largest:\n",
    "            largest = int(num)\n",
    "            index = nums.index(num)\n",
    "    \n",
    "    nums.pop(index)\n",
    "                                 \n",
    "    result += (2*int(nums[0])) + (2*int(nums[1]))\n",
    "                                 \n",
    "print('Part Two : %s' % result)"
   ]
  },
  {
   "cell_type": "code",
   "execution_count": null,
   "metadata": {},
   "outputs": [],
   "source": []
  }
 ],
 "metadata": {
  "kernelspec": {
   "display_name": "Python 3",
   "language": "python",
   "name": "python3"
  },
  "language_info": {
   "codemirror_mode": {
    "name": "ipython",
    "version": 3
   },
   "file_extension": ".py",
   "mimetype": "text/x-python",
   "name": "python",
   "nbconvert_exporter": "python",
   "pygments_lexer": "ipython3",
   "version": "3.6.3"
  }
 },
 "nbformat": 4,
 "nbformat_minor": 2
}
