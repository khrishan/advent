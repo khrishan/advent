{
 "cells": [
  {
   "cell_type": "markdown",
   "metadata": {},
   "source": [
    "## --- Day 13: Knights of the Dinner Table ---\n",
    "\n",
    "In years past, the holiday feast with your family hasn't gone so well. Not everyone gets along! This year, you resolve, will be different. You're going to find the **optimal seating arrangement** and avoid all those awkward conversations.\n",
    "\n",
    "You start by writing up a list of everyone invited and the amount their happiness would increase or decrease if they were to find themselves sitting next to each other person. You have a circular table that will be just big enough to fit everyone comfortably, and so each person will have exactly two neighbors.\n",
    "\n",
    "For example, suppose you have only four attendees planned, and you calculate their potential happiness as follows:\n",
    "\n",
    "```\n",
    "Alice would gain 54 happiness units by sitting next to Bob.\n",
    "Alice would lose 79 happiness units by sitting next to Carol.\n",
    "Alice would lose 2 happiness units by sitting next to David.\n",
    "Bob would gain 83 happiness units by sitting next to Alice.\n",
    "Bob would lose 7 happiness units by sitting next to Carol.\n",
    "Bob would lose 63 happiness units by sitting next to David.\n",
    "Carol would lose 62 happiness units by sitting next to Alice.\n",
    "Carol would gain 60 happiness units by sitting next to Bob.\n",
    "Carol would gain 55 happiness units by sitting next to David.\n",
    "David would gain 46 happiness units by sitting next to Alice.\n",
    "David would lose 7 happiness units by sitting next to Bob.\n",
    "David would gain 41 happiness units by sitting next to Carol.\n",
    "```\n",
    "\n",
    "Then, if you seat Alice next to David, Alice would lose `2` happiness units (because David talks so much), but David would gain `46` happiness units (because Alice is such a good listener), for a total change of `44`.\n",
    "\n",
    "If you continue around the table, you could then seat Bob next to Alice (Bob gains `83`, Alice gains `54`). Finally, seat Carol, who sits next to Bob (Carol gains `60`, Bob loses `7`) and David (Carol gains `55`, David gains `41`). The arrangement looks like this:\n",
    "\n",
    "```\n",
    "     +41 +46\n",
    "+55   David    -2\n",
    "Carol       Alice\n",
    "+60    Bob    +54\n",
    "     -7  +83\n",
    "```\n",
    "\n",
    "After trying every other seating arrangement in this hypothetical scenario, you find that this one is the most optimal, with a total change in happiness of `330`.\n",
    "\n",
    "What is the **total change in happiness** for the optimal seating arrangement of the actual guest list?\n",
    "\n"
   ]
  },
  {
   "cell_type": "code",
   "execution_count": 2,
   "metadata": {},
   "outputs": [
    {
     "name": "stdout",
     "output_type": "stream",
     "text": [
      "Highest = 733\n"
     ]
    }
   ],
   "source": [
    "import itertools\n",
    "import re\n",
    "\n",
    "def read_data(filename):\n",
    "    lines = [line.strip() for line in open(filename)]\n",
    "    people = set()\n",
    "    happiness = {}\n",
    "\n",
    "    pattern = re.compile(\"([A-Za-z]+) would ([gain|lose]+) ([0-9]+) happiness units by sitting next to ([A-Za-z]+).\") # format of the input text\n",
    "\n",
    "    for l in lines:\n",
    "        m = re.match(pattern, l)\n",
    "        if m:\n",
    "            # group(1) - Name 1\n",
    "            # group(2) - gain/lose\n",
    "            # group(3) - value\n",
    "            # group(4) - Name 2\n",
    "\n",
    "            # add people\n",
    "            people.add(m.group(1))\n",
    "            people.add(m.group(4))\n",
    "\n",
    "            key = (m.group(1), m.group(4))\n",
    "\n",
    "            value = int(m.group(3))\n",
    "\n",
    "            if m.group(2) == 'lose':\n",
    "                value *= -1\n",
    "\n",
    "            happiness[key] = value\n",
    "\n",
    "    return people, happiness\n",
    "\n",
    "def get_highest_happiness(people, happiness):\n",
    "    perm = itertools.permutations(people)\n",
    "\n",
    "    highest = 'x'\n",
    "\n",
    "    for p in perm:\n",
    "        total = 0\n",
    "        try:\n",
    "            # add the end links \n",
    "            key_1 = (p[0], p[-1])\n",
    "            key_2 = (p[-1], p[0])\n",
    "\n",
    "            total += happiness[key_1]\n",
    "            total += happiness[key_2]\n",
    "\n",
    "            for i in range(0, len(p)):\n",
    "                try:\n",
    "                    key_1 = (p[i], p[i + 1])\n",
    "                    key_2 = (p[i + 1], p[i])\n",
    "\n",
    "                    total += happiness[key_1]\n",
    "                    total += happiness[key_2]\n",
    "                except Exception:                   \n",
    "                    if highest == 'x':\n",
    "                        highest = total\n",
    "                    elif total > highest:\n",
    "                        highest = total \n",
    "        except Exception as e:\n",
    "            break\n",
    "    \n",
    "    return highest\n",
    "\n",
    "people, happiness = read_data('input/day13.txt')\n",
    "\n",
    "print('Highest = {}'.format(get_highest_happiness(people, happiness)))"
   ]
  },
  {
   "cell_type": "markdown",
   "metadata": {},
   "source": [
    "## --- Part Two ---\n",
    "\n",
    "In all the commotion, you realize that you forgot to seat yourself. At this point, you're pretty apathetic toward the whole thing, and your happiness wouldn't really go up or down regardless of who you sit next to. You assume everyone else would be just as ambivalent about sitting next to you, too.\n",
    "\n",
    "So, add yourself to the list, and give all happiness relationships that involve you a score of `0`.\n",
    "\n",
    "What is the **total change in happiness** for the optimal seating arrangement that actually includes yourself?"
   ]
  },
  {
   "cell_type": "code",
   "execution_count": 3,
   "metadata": {},
   "outputs": [
    {
     "name": "stdout",
     "output_type": "stream",
     "text": [
      "Highest = 725\n"
     ]
    }
   ],
   "source": [
    "people, happiness = read_data('input/day13.txt')\n",
    "\n",
    "for person in people:\n",
    "    key_1 = ('KP', person)\n",
    "    key_2 = (person, 'KP')\n",
    "    \n",
    "    happiness[key_1] = 0\n",
    "    happiness[key_2] = 0\n",
    "\n",
    "people.add('KP')\n",
    "\n",
    "print('Highest = {}'.format(get_highest_happiness(people, happiness)))"
   ]
  }
 ],
 "metadata": {
  "kernelspec": {
   "display_name": "Python 3",
   "language": "python",
   "name": "python3"
  },
  "language_info": {
   "codemirror_mode": {
    "name": "ipython",
    "version": 3
   },
   "file_extension": ".py",
   "mimetype": "text/x-python",
   "name": "python",
   "nbconvert_exporter": "python",
   "pygments_lexer": "ipython3",
   "version": "3.6.3"
  }
 },
 "nbformat": 4,
 "nbformat_minor": 2
}
