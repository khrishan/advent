{
 "cells": [
  {
   "cell_type": "markdown",
   "metadata": {},
   "source": [
    "## --- Day 16: Aunt Sue ---\n",
    "\n",
    "Your Aunt Sue has given you a wonderful gift, and you'd like to send her a thank you card. However, there's a small problem: she signed it \"From, Aunt Sue\".\n",
    "\n",
    "You have 500 Aunts named \"Sue\".\n",
    "\n",
    "So, to avoid sending the card to the wrong person, you need to figure out which Aunt Sue (which you conveniently number 1 to 500, for sanity) gave you the gift. You open the present and, as luck would have it, good ol' Aunt Sue got you a My First Crime Scene Analysis Machine! Just what you wanted. Or needed, as the case may be.\n",
    "\n",
    "The My First Crime Scene Analysis Machine (MFCSAM for short) can detect a few specific compounds in a given sample, as well as how many distinct kinds of those compounds there are. According to the instructions, these are what the MFCSAM can detect:\n",
    "\n",
    "+ `children`, by human DNA age analysis.\n",
    "+ `cats`. It doesn't differentiate individual breeds.\n",
    "+ Several seemingly random breeds of dog: **`samoyeds`**, **`pomeranians`**, `akitas`, and **`vizslas`**.\n",
    "+ `goldfish`. No other kinds of fish.\n",
    "+ `trees`, all in one group.\n",
    "+ `cars`, presumably by exhaust or gasoline or something.\n",
    "+ `perfumes`, which is handy, since many of your Aunts Sue wear a few kinds.\n",
    "\n",
    "In fact, many of your Aunts Sue have many of these. You put the wrapping from the gift into the MFCSAM. It beeps inquisitively at you a few times and then prints out a message on ticker tape:\n",
    "\n",
    "```\n",
    "children: 3\n",
    "cats: 7\n",
    "samoyeds: 2\n",
    "pomeranians: 3\n",
    "akitas: 0\n",
    "vizslas: 0\n",
    "goldfish: 5\n",
    "trees: 3\n",
    "cars: 2\n",
    "perfumes: 1\n",
    "```\n",
    "\n",
    "You make a list of the things you can remember about each Aunt Sue. Things missing from your list aren't zero - you simply don't remember the value.\n",
    "\n",
    "What is the number of the Sue that got you the gift?"
   ]
  },
  {
   "cell_type": "code",
   "execution_count": 10,
   "metadata": {},
   "outputs": [
    {
     "name": "stdout",
     "output_type": "stream",
     "text": [
      "Sue 213\n"
     ]
    }
   ],
   "source": [
    "import re\n",
    "\n",
    "def get_data(filename):\n",
    "    lines = [line.strip() for line in open(filename)]\n",
    "    \n",
    "    sues = []\n",
    "    \n",
    "    pattern = re.compile(\"Sue [0-9]+: ([a-z]+): ([0-9]+), ([a-z]+): ([0-9]+), ([a-z]+): ([0-9]+)\")\n",
    "    for l in lines:\n",
    "        m = re.match(pattern, l)\n",
    "        if m:\n",
    "            info = {}\n",
    "            info[m.group(1)] = int(m.group(2))\n",
    "            info[m.group(3)] = int(m.group(4))\n",
    "            info[m.group(5)] = int(m.group(6))\n",
    "            \n",
    "            sues.append(info)\n",
    "            \n",
    "    return sues\n",
    "    \n",
    "def get_sue(data, result):\n",
    "    for i in range(0, len(data)):\n",
    "        match = False\n",
    "\n",
    "        for item in data[i]:        \n",
    "            if result[item] == data[i][item]:\n",
    "                match = True\n",
    "            else:\n",
    "                match = False\n",
    "                break\n",
    "    \n",
    "        if match:\n",
    "            return (i + 1)\n",
    "    \n",
    "    return None\n",
    "        \n",
    "data = get_data('input/day16.txt')\n",
    "\n",
    "result = {  'children'   : 3,\n",
    "            'cats'       : 7,\n",
    "            'samoyeds'   : 2,\n",
    "            'pomeranians': 3,\n",
    "            'akitas'     : 0,\n",
    "            'vizslas'    : 0,\n",
    "            'goldfish'   : 5,\n",
    "            'trees'      : 3,\n",
    "            'cars'       : 2,\n",
    "            'perfumes'   : 1\n",
    "         }\n",
    "\n",
    "print('Sue {}'.format(get_sue(data, result)))"
   ]
  },
  {
   "cell_type": "markdown",
   "metadata": {},
   "source": [
    "## --- Part Two ---\n",
    "\n",
    "As you're about to send the thank you note, something in the MFCSAM's instructions catches your eye. Apparently, it has an outdated retroencabulator, and so the output from the machine isn't exact values - some of them indicate ranges.\n",
    "\n",
    "In particular, the cats and trees readings indicates that there are **`greater than`** that many (due to the unpredictable nuclear decay of cat dander and tree pollen), while the `pomeranians` and `goldfish` readings indicate that there are **`fewer than`** that many (due to the modial interaction of magnetoreluctance).\n",
    "\n",
    "What is the **number** of the real Aunt Sue?"
   ]
  },
  {
   "cell_type": "code",
   "execution_count": null,
   "metadata": {},
   "outputs": [],
   "source": [
    "def get_sue(data, result):\n",
    "\n",
    "    done = False\n",
    "\n",
    "    for i in range(0, len(data)):\n",
    "        test = data[i]\n",
    "\n",
    "        match = False\n",
    "\n",
    "        for item in data[i]:        \n",
    "            if result[item] == data[i][item]:\n",
    "                match = True\n",
    "            else:\n",
    "                match = False\n",
    "                break\n",
    "    \n",
    "        if match:\n",
    "            return (i + 1)\n",
    "            break\n",
    "    \n",
    "    return None"
   ]
  }
 ],
 "metadata": {
  "kernelspec": {
   "display_name": "Python 3",
   "language": "python",
   "name": "python3"
  },
  "language_info": {
   "codemirror_mode": {
    "name": "ipython",
    "version": 3
   },
   "file_extension": ".py",
   "mimetype": "text/x-python",
   "name": "python",
   "nbconvert_exporter": "python",
   "pygments_lexer": "ipython3",
   "version": "3.7.3"
  }
 },
 "nbformat": 4,
 "nbformat_minor": 2
}
