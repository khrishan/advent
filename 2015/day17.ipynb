{
 "cells": [
  {
   "cell_type": "markdown",
   "metadata": {},
   "source": [
    "## --- Day 17: No Such Thing as Too Much ---\n",
    "\n",
    "The elves bought too much eggnog again - `150` liters this time. To fit it all into your refrigerator, you'll need to move it into smaller containers. You take an inventory of the capacities of the available containers.\n",
    "\n",
    "For example, suppose you have containers of size `20`, `15`, `10`, `5`, and `5` liters. If you need to store `25` liters, there are four ways to do it:\n",
    "\n",
    "+ `15` and `10`\n",
    "+ `20` and `5` (the first `5`)\n",
    "+ `20` and `5` (the second `5`)\n",
    "+ `15`, `5`, and `5`\n",
    "\n",
    "Filling all containers entirely, how many different **combinations of containers** can exactly fit all `150` liters of eggnog?"
   ]
  },
  {
   "cell_type": "code",
   "execution_count": 14,
   "metadata": {},
   "outputs": [
    {
     "name": "stdout",
     "output_type": "stream",
     "text": [
      "654\n"
     ]
    }
   ],
   "source": [
    "import itertools\n",
    "\n",
    "data = [int(line.strip()) for line in open('input/day17.txt')]\n",
    "\n",
    "grand_total = 0\n",
    "\n",
    "for i in range(0, len(data)):\n",
    "    sub_total = 0\n",
    "    combinations = itertools.combinations(data, i)\n",
    "    for c in combinations:\n",
    "        if sum(c) == 150:\n",
    "            sub_total += 1\n",
    "    grand_total += sub_total\n",
    "\n",
    "print(grand_total)"
   ]
  },
  {
   "cell_type": "markdown",
   "metadata": {},
   "source": [
    "## --- Part Two ---\n",
    "\n",
    "While playing with all the containers in the kitchen, another load of eggnog arrives! The shipping and receiving department is requesting as many containers as you can spare.\n",
    "\n",
    "Find the minimum number of containers that can exactly fit all `150` liters of eggnog. **How many different ways** can you fill that number of containers and still hold exactly `150` litres?\n",
    "\n",
    "In the example above, the minimum number of containers was **two**. There were three ways to use that many containers, and so the answer there would be `3`."
   ]
  },
  {
   "cell_type": "code",
   "execution_count": 13,
   "metadata": {},
   "outputs": [
    {
     "name": "stdout",
     "output_type": "stream",
     "text": [
      "Smallest : 4\n",
      "Part 2 : 57\n"
     ]
    }
   ],
   "source": [
    "# Get the smallest number to make 150\n",
    "smallest = -1\n",
    "\n",
    "for i in range(0, len(data)):\n",
    "    combinations = itertools.combinations(data, i)\n",
    "    for c in combinations:\n",
    "        if sum(c) == 150:\n",
    "            if smallest == -1:\n",
    "                smallest = len(c)\n",
    "            elif len(c) < smallest:\n",
    "                smallest = len(c)\n",
    "\n",
    "print('Smallest : {}'.format(smallest))\n",
    "\n",
    "# How many combinations using smallest number of containers\n",
    "\n",
    "total = 0\n",
    "combinations = itertools.combinations(data, smallest)\n",
    "for c in combinations:\n",
    "    if sum(c) == 150:\n",
    "        total += 1\n",
    "\n",
    "print('Part 2 : {}'.format(total))"
   ]
  },
  {
   "cell_type": "code",
   "execution_count": null,
   "metadata": {},
   "outputs": [],
   "source": []
  }
 ],
 "metadata": {
  "kernelspec": {
   "display_name": "Python 3",
   "language": "python",
   "name": "python3"
  },
  "language_info": {
   "codemirror_mode": {
    "name": "ipython",
    "version": 3
   },
   "file_extension": ".py",
   "mimetype": "text/x-python",
   "name": "python",
   "nbconvert_exporter": "python",
   "pygments_lexer": "ipython3",
   "version": "3.7.3"
  }
 },
 "nbformat": 4,
 "nbformat_minor": 2
}
