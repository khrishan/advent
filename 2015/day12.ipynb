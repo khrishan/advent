{
 "cells": [
  {
   "cell_type": "markdown",
   "metadata": {},
   "source": [
    "## --- Day 12: JSAbacusFramework.io ---\n",
    "\n",
    "Santa's Accounting-Elves need help balancing the books after a recent order. Unfortunately, their accounting software uses a peculiar storage format. That's where you come in.\n",
    "\n",
    "They have a JSON document which contains a variety of things: arrays (`[1,2,3]`), objects (`{\"a\":1, \"b\":2}`), numbers, and strings. Your first job is to simply find all of the **numbers** throughout the document and add them together.\n",
    "\n",
    "For example:\n",
    "\n",
    "+ `[1,2,3]` and `{\"a\":2,\"b\":4}` both have a sum of `6`.\n",
    "+ `[[[3]]]` and `{\"a\":{\"b\":4},\"c\":-1}` both have a sum of `3`.\n",
    "+ `{\"a\":[-1,1]}` and `[-1,{\"a\":1}]` both have a sum of `0`.\n",
    "+ `[]` and `{}` both have a sum of `0`.\n",
    "\n",
    "You will not encounter any strings containing numbers.\n",
    "\n",
    "What is the sum of all numbers in the document?"
   ]
  },
  {
   "cell_type": "code",
   "execution_count": 2,
   "metadata": {},
   "outputs": [
    {
     "name": "stdout",
     "output_type": "stream",
     "text": [
      "Part One : 191164\n"
     ]
    }
   ],
   "source": [
    "import json\n",
    "\n",
    "def get_numbers(item):\n",
    "    total = 0\n",
    "    if isinstance(item, int):\n",
    "        total += item\n",
    "    else:\n",
    "        for i in item:\n",
    "            if type(i) == type([]): # if list\n",
    "                total += get_numbers(i)\n",
    "            elif type(i) == type({}):\n",
    "                values = [*i.values()]\n",
    "                total += get_numbers(values)\n",
    "            elif type(i) == int:\n",
    "                total += i\n",
    "    \n",
    "    return total\n",
    "\n",
    "with open('input/day12.txt') as json_file:\n",
    "    data = json.load(json_file)\n",
    "        \n",
    "print('Part One : {}'.format(get_numbers(data)))"
   ]
  },
  {
   "cell_type": "markdown",
   "metadata": {},
   "source": [
    "## --- Part Two ---\n",
    "\n",
    "Uh oh - the Accounting-Elves have realized that they double-counted everything red.\n",
    "\n",
    "Ignore any object (and all of its children) which has any property with the value \"red\". Do this only for objects ({...}), not arrays ([...]).\n",
    "\n",
    "+ `[1,2,3]` still has a sum of `6`.\n",
    "+ `[1,{\"c\":\"red\",\"b\":2},3]` now has a sum of `4`, because the middle object is ignored.\n",
    "+ `{\"d\":\"red\",\"e\":[1,2,3,4],\"f\":5}` now has a sum of `0`, because the entire structure is ignored.\n",
    "+ `[1,\"red\",5]` has a sum of 6, because \"red\" in an array has no effect."
   ]
  },
  {
   "cell_type": "code",
   "execution_count": 5,
   "metadata": {},
   "outputs": [
    {
     "name": "stdout",
     "output_type": "stream",
     "text": [
      "Part Two : 87842\n"
     ]
    }
   ],
   "source": [
    "import json\n",
    "\n",
    "def get_numbers(item):\n",
    "    total = 0\n",
    "    if isinstance(item, int):\n",
    "        total += item\n",
    "    else:\n",
    "        for i in item:\n",
    "            if type(i) == type([]): # if list\n",
    "                total += get_numbers(i)\n",
    "            elif type(i) == type({}):\n",
    "                values = [*i.values()]\n",
    "                if 'red' in values:\n",
    "                    total += 0\n",
    "                else:\n",
    "                    total += get_numbers(values)\n",
    "            elif type(i) == int:\n",
    "                total += i\n",
    "    return total\n",
    "    \n",
    "\n",
    "with open('input/day12.txt') as json_file:\n",
    "    data = json.load(json_file)\n",
    "        \n",
    "print('Part Two : {}'.format(get_numbers(data)))"
   ]
  }
 ],
 "metadata": {
  "kernelspec": {
   "display_name": "Python 3",
   "language": "python",
   "name": "python3"
  },
  "language_info": {
   "codemirror_mode": {
    "name": "ipython",
    "version": 3
   },
   "file_extension": ".py",
   "mimetype": "text/x-python",
   "name": "python",
   "nbconvert_exporter": "python",
   "pygments_lexer": "ipython3",
   "version": "3.6.3"
  }
 },
 "nbformat": 4,
 "nbformat_minor": 2
}
