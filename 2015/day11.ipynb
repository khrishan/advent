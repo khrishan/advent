{
 "cells": [
  {
   "cell_type": "markdown",
   "metadata": {},
   "source": [
    "## --- Day 11: Corporate Policy ---\n",
    "\n",
    "Santa's previous password expired, and he needs help choosing a new one.\n",
    "\n",
    "To help him remember his new password after the old one expires, Santa has devised a method of coming up with a password based on the previous one. Corporate policy dictates that passwords must be exactly eight lowercase letters (for security reasons), so he finds his new password by **incrementing** his old password string repeatedly until it is valid.\n",
    "\n",
    "Incrementing is just like counting with numbers: `xx`,`xy`, `xz`, `ya`, `yb`, and so on. Increase the rightmost letter one step; if it was `z`, it wraps around to `a`, and repeat with the next letter to the left until one doesn't wrap around.\n",
    "\n",
    "Unfortunately for Santa, a new Security-Elf recently started, and he has imposed some additional password requirements:\n",
    "\n",
    "+ Passwords must include one increasing straight of at least three letters, like `abc`, `bcd`, `cde`, and so on, up to `xyz`. They cannot skip letters; `abd` doesn't count.\n",
    "\n",
    "+ Passwords may not contain the letters `i`, `o`, or `l`, as these letters can be mistaken for other characters and are therefore confusing.\n",
    "\n",
    "+ Passwords must contain at least two different, non-overlapping pairs of letters, like `aa`, `bb`, or `zz`.\n",
    "\n",
    "For example:\n",
    "\n",
    "+ `hijklmmn` meets the first requirement (because it contains the straight `hij`) but fails the second requirement requirement (because it contains `i` and `l`).\n",
    "+ `abbceffg` meets the third requirement (because it repeats `bb` and `ff`) but fails the first requirement.\n",
    "+ `abbcegjk` fails the third requirement, because it only has one double letter (`bb`).\n",
    "+ The next password after `abcdefg`h is `abcdffaa`.\n",
    "+ The next password after `ghijklmn` is `ghjaabcc`, because you eventually skip all the passwords that start with `ghi`..., since `i` is not allowed.\n",
    "\n",
    "Given Santa's current password (your puzzle input), what should his **next password** be?"
   ]
  },
  {
   "cell_type": "code",
   "execution_count": 2,
   "metadata": {},
   "outputs": [
    {
     "name": "stdout",
     "output_type": "stream",
     "text": [
      "Next Password : cqjxxyzz\n"
     ]
    }
   ],
   "source": [
    "def _get_combinations(string, num):\n",
    "    combinations = []\n",
    "    while len(string) > num-1:\n",
    "        chunk = string[0 : num]\n",
    "        combinations.append(chunk)\n",
    "        string = string[1:]\n",
    "    \n",
    "    return combinations\n",
    "\n",
    "def _get_pairs():\n",
    "    alphabet = 'abcdefghijklmnopqrstuvwxyz'\n",
    "    combinations = []\n",
    "    \n",
    "    for c in alphabet:\n",
    "        combinations.append(c + c)\n",
    "    \n",
    "    return combinations\n",
    "    \n",
    "def contains_straight(string):\n",
    "    combinations = _get_combinations('abcdefghijklmnopqrstuvwxyz', 3)\n",
    "    \n",
    "    for c in combinations:\n",
    "        if c in string:\n",
    "            return True\n",
    "        else:\n",
    "            continue\n",
    "    \n",
    "    return False\n",
    "\n",
    "def contains_banned_letters(string):\n",
    "    banned_letters = ['i', 'o', 'l']\n",
    "    \n",
    "    for l in banned_letters:\n",
    "        if l in string:\n",
    "            return True\n",
    "    \n",
    "    return False\n",
    "\n",
    "def contains_two_different_pairs(string):\n",
    "    combinations = _get_pairs()\n",
    "    \n",
    "    count = 0\n",
    "    \n",
    "    for c in combinations:\n",
    "        if c in string:\n",
    "            count +=1\n",
    "    \n",
    "    return count > 1\n",
    "\n",
    "def increment_string(string): # len(string) == 8 or fail\n",
    "    # letters = the alphabet\n",
    "    # letters[1:]+a = 'bcdefghijklmnnopqrstuvwxyza'\n",
    "    # zip - put two and two together\n",
    "    alphabet = 'abcdefghijklmnopqrstuvwxyz'\n",
    "    next_alphabet = 'bcdefghijklmnopqrstuvwxyza'\n",
    "    next_letter = {l1: l2 for l1, l2 in zip(alphabet, next_alphabet)}\n",
    "    \n",
    "    string = string[:-1] + next_letter[string[-1]]  # increment the last letter\n",
    "        \n",
    "    for i in range(-1, -8, -1): #start at -1, until -7, going down in increments of -1\n",
    "        if string[i] == 'a':  # increment n-1 letter is n letter changed to 'a'\n",
    "            string = string[:i-1] + next_letter[string[i-1]] + string[i:]\n",
    "        else:\n",
    "            break\n",
    "    return string\n",
    "    \n",
    "def next_password(puzzle_input):\n",
    "    while True:\n",
    "        if (not contains_banned_letters(puzzle_input)) and (contains_straight(puzzle_input)) and contains_two_different_pairs(puzzle_input):\n",
    "            return puzzle_input\n",
    "        else:\n",
    "            puzzle_input = increment_string(puzzle_input)\n",
    "            \n",
    "            \n",
    "puzzle_input = [line.strip() for line in open('input/day11.txt')][0]\n",
    "\n",
    "print('Next Password : {}'.format(next_password(puzzle_input)))\n"
   ]
  },
  {
   "cell_type": "markdown",
   "metadata": {},
   "source": [
    "## --- Part Two ---\n",
    "\n",
    "Santa's password expired again. What's the next one?"
   ]
  },
  {
   "cell_type": "code",
   "execution_count": 3,
   "metadata": {},
   "outputs": [
    {
     "name": "stdout",
     "output_type": "stream",
     "text": [
      "Next Password : cqkaabcc\n"
     ]
    }
   ],
   "source": [
    "puzzle_input = increment_string('cqjxxyzz')\n",
    "\n",
    "print('Next Password : {}'.format(next_password(puzzle_input)))"
   ]
  }
 ],
 "metadata": {
  "kernelspec": {
   "display_name": "Python 3",
   "language": "python",
   "name": "python3"
  },
  "language_info": {
   "codemirror_mode": {
    "name": "ipython",
    "version": 3
   },
   "file_extension": ".py",
   "mimetype": "text/x-python",
   "name": "python",
   "nbconvert_exporter": "python",
   "pygments_lexer": "ipython3",
   "version": "3.6.3"
  }
 },
 "nbformat": 4,
 "nbformat_minor": 2
}
