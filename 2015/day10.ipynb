{
 "cells": [
  {
   "cell_type": "markdown",
   "metadata": {},
   "source": [
    "## --- Day 10: Elves Look, Elves Say ---\n",
    "\n",
    "Today, the Elves are playing a game called look-and-say. They take turns making sequences by reading aloud the previous sequence and using that reading as the next sequence. For example, `211` is read as \"one two, two ones\", which becomes `1221` (1 2, 2 1s).\n",
    "\n",
    "Look-and-say sequences are generated iteratively, using the previous value as input for the next step. For each step, take the previous value, and replace each run of digits (like `111`) with the number of digits (`3`) followed by the digit itself (`1`).\n",
    "\n",
    "For example:\n",
    "\n",
    "+ `1` becomes `11` (1 copy of digit 1).\n",
    "+ `11` becomes `21` (2 copies of digit 1).\n",
    "+ `21` becomes `1211` (one 2 followed by one 1).\n",
    "+ `1211` becomes `111221` (one 1, one 2, and two 1s).\n",
    "+ `111221` becomes `312211` (three 1s, two 2s, and one 1).\n",
    "\n",
    "Starting with the digits in your puzzle input, apply this process `40` times. What is the **length of the result**?"
   ]
  },
  {
   "cell_type": "code",
   "execution_count": 8,
   "metadata": {},
   "outputs": [
    {
     "name": "stdout",
     "output_type": "stream",
     "text": [
      "Part One : 360154\n"
     ]
    }
   ],
   "source": [
    "puzzle_input = [line.strip() for line in open('input/day10.txt')][0] # So unneccessary, but I like things that follow patterns\n",
    "\n",
    "#puzzle_input = str(1)\n",
    "\n",
    "def process_number(puzzle_input, iterations):\n",
    "\n",
    "    for i in range(0, iterations):\n",
    "        new_input = ''\n",
    "        num = -1\n",
    "        count = 0\n",
    "\n",
    "        for c in puzzle_input:\n",
    "            if num == -1:\n",
    "                num = c\n",
    "                count += 1\n",
    "            elif c == num:\n",
    "                count += 1\n",
    "                continue\n",
    "            else:\n",
    "                new_input += str(count)\n",
    "                new_input += str(num)\n",
    "                num = c\n",
    "                count = 1\n",
    "\n",
    "        # Cater for the last one which will be missed by the for loop\n",
    "        new_input += str(count)\n",
    "        new_input += str(num)\n",
    "\n",
    "        puzzle_input = new_input\n",
    "\n",
    "    return len(puzzle_input)\n",
    "\n",
    "print('Part One : {}'.format(process_number(puzzle_input, 40)))"
   ]
  },
  {
   "cell_type": "markdown",
   "metadata": {},
   "source": [
    "## --- Part Two ---\n",
    "Neat, right? You might also enjoy hearing John Conway talking about this sequence (that's Conway of Conway's Game of Life fame).\n",
    "\n",
    "Now, starting again with the digits in your puzzle input, apply this process `50` times. What is **the length of the new result**?"
   ]
  },
  {
   "cell_type": "code",
   "execution_count": 10,
   "metadata": {},
   "outputs": [
    {
     "name": "stdout",
     "output_type": "stream",
     "text": [
      "Part Two : 5103798\n"
     ]
    }
   ],
   "source": [
    "puzzle_input = [line.strip() for line in open('input/day10.txt')][0]\n",
    "\n",
    "print('Part Two : {}'.format(process_number(puzzle_input, 50)))"
   ]
  }
 ],
 "metadata": {
  "kernelspec": {
   "display_name": "Python 3",
   "language": "python",
   "name": "python3"
  },
  "language_info": {
   "codemirror_mode": {
    "name": "ipython",
    "version": 3
   },
   "file_extension": ".py",
   "mimetype": "text/x-python",
   "name": "python",
   "nbconvert_exporter": "python",
   "pygments_lexer": "ipython3",
   "version": "3.7.3"
  }
 },
 "nbformat": 4,
 "nbformat_minor": 2
}
