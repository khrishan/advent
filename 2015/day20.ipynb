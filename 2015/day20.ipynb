{
 "metadata": {
  "language_info": {
   "codemirror_mode": {
    "name": "ipython",
    "version": 3
   },
   "file_extension": ".py",
   "mimetype": "text/x-python",
   "name": "python",
   "nbconvert_exporter": "python",
   "pygments_lexer": "ipython3",
   "version": "3.8.0-final"
  },
  "orig_nbformat": 2,
  "kernelspec": {
   "name": "python_defaultSpec_1599659749202",
   "display_name": "Python 3.8.0 64-bit"
  }
 },
 "nbformat": 4,
 "nbformat_minor": 2,
 "cells": [
  {
   "cell_type": "markdown",
   "metadata": {},
   "source": [
    "# --- Day 20: Infinite Elves and Infinite Houses ---\n",
    "\n",
    "To keep the Elves busy, Santa has them deliver some presents by hand, door-to-door. He sends them down a street with infinite houses numbered sequentially: `1`, `2`, `3`, `4`, `5`, and so on.\n",
    "\n",
    "Each Elf is assigned a number, too, and delivers presents to houses based on that number:\n",
    "\n",
    "+ The first Elf (number `1`) delivers presents to every house: `1`, `2`, `3`, `4`, `5`, ...\n",
    "+ The second Elf (number `2`) delivers presents to every second house: `2`, `4`, `6`, `8`, `10`, ...\n",
    "+ Elf number `3` delivers presents to every third house: `3`, `6`, `9`, `12`, `15`, ...\n",
    "\n",
    "There are infinitely many Elves, numbered starting with `1`. Each Elf delivers presents equal to **ten times** his or her number at each house.\n",
    "\n",
    "So, the first nine houses on the street end up like this:\n",
    "```\n",
    "House 1 got 10 presents.\n",
    "House 2 got 30 presents.\n",
    "House 3 got 40 presents.\n",
    "House 4 got 70 presents.\n",
    "House 5 got 60 presents.\n",
    "House 6 got 120 presents.\n",
    "House 7 got 80 presents.\n",
    "House 8 got 150 presents.\n",
    "House 9 got 130 presents.\n",
    "```\n",
    "\n",
    "The first house gets `10` presents: it is visited only by Elf `1`, which delivers `1 * 10 = 10` presents. The fourth house gets `70` presents, because it is visited by Elves `1`, `2`, and `4`, for a total of `10 + 20 + 40 = 70` presents.\n",
    "\n",
    "What is the **lowest house number** of the house to get at least as many presents as the number in your puzzle input?\n"
   ]
  },
  {
   "cell_type": "code",
   "execution_count": 6,
   "metadata": {},
   "outputs": [
    {
     "output_type": "execute_result",
     "data": {
      "text/plain": "665280"
     },
     "metadata": {},
     "execution_count": 6
    }
   ],
   "source": [
    "puzzle_input = 29000000\n",
    "\n",
    "def part1():\n",
    "    count = 665279 # used to speed up search\n",
    "    while True:\n",
    "        count += 1\n",
    "        \n",
    "        presents = 0\n",
    "\n",
    "        for i in range(count, 0, -1):\n",
    "            if count % i == 0:\n",
    "                presents += i * 10\n",
    "        \n",
    "        #print('house {} got {} presents!'.format(count, presents))\n",
    "        if presents >= puzzle_input:\n",
    "            #print('house {} got {} presents!'.format(count, presents))\n",
    "            return count\n",
    "            break\n",
    "part1()"
   ]
  },
  {
   "cell_type": "markdown",
   "metadata": {},
   "source": [
    "## --- Part Two ---\n",
    "\n",
    "The Elves decide they don't want to visit an infinite number of houses. Instead, each Elf will stop after delivering presents to `50` houses. To make up for it, they decide to deliver presents equal to **eleven times** their number at each house.\n",
    "\n",
    "With these changes, what is the new **lowest house number** of the house to get at least as many presents as the number in your puzzle input?"
   ]
  },
  {
   "cell_type": "code",
   "execution_count": 7,
   "metadata": {},
   "outputs": [
    {
     "output_type": "execute_result",
     "data": {
      "text/plain": "705600"
     },
     "metadata": {},
     "execution_count": 7
    }
   ],
   "source": [
    "from collections import defaultdict\n",
    "\n",
    "target = 29000000\n",
    "\n",
    "def part2():\n",
    "    houses = defaultdict(int)\n",
    "\n",
    "    for elf in range(1, target):\n",
    "        for house in range(elf, elf*50+1, elf):\n",
    "            houses[house] += elf*11\n",
    "            \n",
    "        if houses[elf] >= target:\n",
    "            return elf\n",
    "\n",
    "part2()"
   ]
  },
  {
   "cell_type": "markdown",
   "metadata": {},
   "source": []
  }
 ]
}