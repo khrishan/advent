{
 "cells": [
  {
   "cell_type": "markdown",
   "metadata": {},
   "source": [
    "# --- Day 7: Some Assembly Required ---\n",
    "This year, Santa brought little Bobby Tables a set of wires and **bitwise logic gates**! Unfortunately, little Bobby is a little under the recommended age range, and he needs help assembling the circuit.\n",
    "\n",
    "Each wire has an identifier (some lowercase letters) and can carry a **16-bit** signal (a number from `0` to `65535`). A signal is provided to each wire by a gate, another wire, or some specific value. Each wire can only get a signal from one source, but can provide its signal to multiple destinations. A gate provides no signal until all of its inputs have a signal.\n",
    "\n",
    "The included instructions booklet describes how to connect the parts together: `x AND y -> z` means to connect wires `x` and `y` to an `AND` gate, and then connect its output to wire `z`.\n",
    "\n",
    "For example:\n",
    "\n",
    "+ `123 -> x` means that the signal `123` is provided to wire `x`.\n",
    "+ `x AND y -> z` means that the `bitwise AND` of wire `x` and wire `y` is provided to wire `z`.\n",
    "+ `p LSHIFT 2 -> q` means that the value from wire p is `left-shifted` by `2` and then provided to wire `q`.\n",
    "+ `NOT e -> f` means that the `bitwise complement` of the value from wire `e` is provided to wire `f`.\n",
    "\n",
    "Other possible gates include `OR` (bitwise OR) and `RSHIFT` (right-shift). If, for some reason, you'd like to emulate the circuit instead, almost all programming languages (for example, C, JavaScript, or Python) provide operators for these gates.\n",
    "\n",
    "For example, here is a simple circuit:\n",
    "\n",
    "```\n",
    "123 -> x\n",
    "456 -> y\n",
    "x AND y -> d\n",
    "x OR y -> e\n",
    "x LSHIFT 2 -> f\n",
    "y RSHIFT 2 -> g\n",
    "NOT x -> h\n",
    "NOT y -> i\n",
    "```\n",
    "\n",
    "After it is run, these are the signals on the wires:\n",
    "\n",
    "```\n",
    "d: 72\n",
    "e: 507\n",
    "f: 492\n",
    "g: 114\n",
    "h: 65412\n",
    "i: 65079\n",
    "x: 123\n",
    "y: 456\n",
    "```\n",
    "\n",
    "In little Bobby's kit's instructions booklet (provided as your puzzle input), what signal is ultimately provided to wire a?"
   ]
  },
  {
   "cell_type": "code",
   "execution_count": 56,
   "metadata": {},
   "outputs": [
    {
     "name": "stdout",
     "output_type": "stream",
     "text": [
      "a signal is 3176\n"
     ]
    }
   ],
   "source": [
    "lines = [line.strip() for line in open('input/day07.txt')]\n",
    "\n",
    "tree = {}\n",
    "\n",
    "for l in lines:\n",
    "    operation, name = l.split(' -> ')\n",
    "    tree[name] = operation   \n",
    "\n",
    "def get_value(gate):\n",
    "    if gate.isdigit():\n",
    "        return int(gate)\n",
    "    elif type(gate) is int:\n",
    "        return gate\n",
    "    \n",
    "    operation = tree[gate]\n",
    "    \n",
    "    if type(operation) is int:\n",
    "        return operation\n",
    "    \n",
    "    if 'AND' in operation:\n",
    "        val1, val2 = operation.split(' AND ')\n",
    "        ret_val =  get_value(val1) & get_value(val2)\n",
    "    elif 'OR' in operation:\n",
    "        val1, val2 = operation.split(' OR ')\n",
    "        ret_val =  get_value(val1) | get_value(val2)\n",
    "    elif 'LSHIFT' in operation:\n",
    "        val1, val2 = operation.split(' LSHIFT ')\n",
    "        val1 = get_value(val1)\n",
    "       \n",
    "        ret_val =    val1 << int(val2)\n",
    "    elif 'RSHIFT' in operation:\n",
    "        val1, val2 = operation.split(' RSHIFT ')\n",
    "        val1 = get_value(val1)\n",
    "        \n",
    "        ret_val =    val1 >> int(val2)\n",
    "    elif 'NOT' in operation:\n",
    "        val = operation.replace('NOT ', '')\n",
    "        \n",
    "        ret_val = ~get_value(val)\n",
    "    else: # assume reference to other gate\n",
    "        ret_val = get_value(operation)\n",
    "    \n",
    "    tree[gate] = 0xffff & ret_val\n",
    "    return tree[gate]\n",
    "   \n",
    "print('a signal is {}'.format(get_value('a')))"
   ]
  },
  {
   "cell_type": "markdown",
   "metadata": {},
   "source": [
    "## --- Part Two ---\n",
    "\n",
    "Now, take the signal you got on wire `a`, override wire `b` to that signal, and reset the other wires (including wire `a`). What new signal is ultimately provided to wire `a`?"
   ]
  },
  {
   "cell_type": "code",
   "execution_count": 55,
   "metadata": {},
   "outputs": [
    {
     "name": "stdout",
     "output_type": "stream",
     "text": [
      "a signal is 14710\n"
     ]
    }
   ],
   "source": [
    "lines = [line.strip() for line in open('input/day07.txt')]\n",
    "\n",
    "tree = {}\n",
    "\n",
    "for l in lines:\n",
    "    operation, name = l.split(' -> ')\n",
    "    tree[name] = operation \n",
    "\n",
    "tree['b'] = 3176\n",
    "\n",
    "print('a signal is {}'.format(get_value('a')))"
   ]
  }
 ],
 "metadata": {
  "kernelspec": {
   "display_name": "Python 3",
   "language": "python",
   "name": "python3"
  },
  "language_info": {
   "codemirror_mode": {
    "name": "ipython",
    "version": 3
   },
   "file_extension": ".py",
   "mimetype": "text/x-python",
   "name": "python",
   "nbconvert_exporter": "python",
   "pygments_lexer": "ipython3",
   "version": "3.7.3"
  }
 },
 "nbformat": 4,
 "nbformat_minor": 2
}
